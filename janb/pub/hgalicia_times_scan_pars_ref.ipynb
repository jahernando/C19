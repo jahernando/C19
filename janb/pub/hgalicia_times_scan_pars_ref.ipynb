{
 "cells": [
  {
   "cell_type": "markdown",
   "metadata": {},
   "source": [
    "# SERGAS data analysis - parameter region\n",
    "\n",
    "Read file with data from the fits of the cases, dates to useir quenched model\n",
    "\n",
    "scan in : beta, gamma, tr, ti, s1\n",
    "fit  in : t0, phi\n",
    "\n",
    "Select the best point, and print std in a region of (n = 3) sigmas\n",
    "\n",
    "author: JAH, JJG\n",
    "\n",
    "version: 15/07/20\n"
   ]
  },
  {
   "cell_type": "code",
   "execution_count": 1,
   "metadata": {},
   "outputs": [],
   "source": [
    "%matplotlib inline\n",
    "%load_ext autoreload\n",
    "%autoreload 2\n",
    "import matplotlib.pyplot as plt\n",
    "from matplotlib.pyplot import imshow\n",
    "plt.rcParams[\"figure.figsize\"] = 10, 8\n",
    "plt.rcParams[\"font.size\"     ] = 14"
   ]
  },
  {
   "cell_type": "code",
   "execution_count": 2,
   "metadata": {},
   "outputs": [
    {
     "name": "stdout",
     "output_type": "stream",
     "text": [
      "Last updated on  Wed Jul 15 17:31:06 2020\n"
     ]
    }
   ],
   "source": [
    "import os\n",
    "import sys\n",
    "import glob\n",
    "import time\n",
    "import warnings\n",
    "import datetime \n",
    "import matplotlib.dates as mdates\n",
    "print(\"Last updated on \", time.asctime())"
   ]
  },
  {
   "cell_type": "code",
   "execution_count": 3,
   "metadata": {},
   "outputs": [],
   "source": [
    "import numpy as np\n",
    "import pandas as pd\n",
    "import matplotlib\n",
    "import time\n",
    "\n",
    "import c19.useir      as us\n",
    "import c19.useir_plot as usp"
   ]
  },
  {
   "cell_type": "code",
   "execution_count": 4,
   "metadata": {},
   "outputs": [],
   "source": [
    "from c19.data_functions_HG import hg_get_data_ingresos, hg_get_data_pacientes, hg_get_data_age\n",
    "from c19.HG_analysis import plot_hgi, plot_nh_nu, recovery_time, exitus_time, exitus_group, exitus, hosp_uci, select_age_by_CA_and_sex\n",
    "from c19.HG_analysis import hist_XY_series, plot_XY_series, plot_pop_age\n",
    "from c19.HG_analysis import formatter"
   ]
  },
  {
   "cell_type": "code",
   "execution_count": 5,
   "metadata": {},
   "outputs": [],
   "source": [
    "datapath=\"/Users/hernando/investigacion/bio/c19/data/HospitalesGalicia\"\n",
    "file = \"IngresosCovid.csv\"\n",
    "filep = \"PacientesCOVID.csv\"\n",
    "ff =f'{datapath}/{file}'\n",
    "fp =f'{datapath}/{filep}'\n",
    "dfi = pd.read_csv(ff, sep='|')"
   ]
  },
  {
   "cell_type": "code",
   "execution_count": 6,
   "metadata": {},
   "outputs": [],
   "source": [
    "def get_cases(df, index = 'ingreso'):\n",
    "    nps = df.groupby([index]).pacienteID.count()\n",
    "    sel = nps.index >= np.datetime64('2020-02-15')\n",
    "    dates, cases = nps.index[sel].values, nps.values[sel]\n",
    "    return dates, cases\n",
    "\n",
    "def get_fun(ffit):\n",
    "    fun   = us.chi2\n",
    "    if ffit == 'mll' : fun = us.mll\n",
    "    if ffit == 'emll': fun = us.emll\n",
    "    return fun\n",
    "\n",
    "def plt_kpars(dates, cases, kpars, fmodel, ffit = 'chi2'):\n",
    "    pars  = us.kpars_to_pars(kpars, fmodel)\n",
    "    usp.plt_data_model(dates, cases, pars, fmodel)\n",
    "    fun = get_fun(ffit)\n",
    "    ts  = us.to_ts(dates)\n",
    "    fval  = fun(ts, cases, pars, fmodel)\n",
    "    print('best pars ', kpars, ', chi2 ', fval)"
   ]
  },
  {
   "cell_type": "code",
   "execution_count": 7,
   "metadata": {},
   "outputs": [],
   "source": [
    "hgi = hg_get_data_ingresos(ff)\n",
    "dates, cases = get_cases(hgi)\n",
    "sel = dates >= np.datetime64('2020-03-01') \n",
    "dates, cases = dates[sel], cases[sel]"
   ]
  },
  {
   "cell_type": "markdown",
   "metadata": {},
   "source": [
    "## $\\chi^2$ distribution"
   ]
  },
  {
   "cell_type": "code",
   "execution_count": 8,
   "metadata": {},
   "outputs": [],
   "source": [
    "path  = \"/Users/hernando/investigacion/bio/c19/data/\"\n",
    "ifile = \"dms_scan_fit_120720.csv\"\n",
    "dpars = pd.read_csv(path + ifile)"
   ]
  },
  {
   "cell_type": "code",
   "execution_count": 9,
   "metadata": {},
   "outputs": [
    {
     "data": {
      "image/png": "[encoded data removed]",
      "text/plain": [
       "<Figure size 432x288 with 1 Axes>"
      ]
     },
     "metadata": {
      "needs_background": "light"
     },
     "output_type": "display_data"
    }
   ],
   "source": [
    "plt.hist(dpars.fval, 100);\n",
    "v0 = np.min(dpars.fval)"
   ]
  },
  {
   "cell_type": "markdown",
   "metadata": {},
   "source": [
    "## best point"
   ]
  },
  {
   "cell_type": "code",
   "execution_count": 10,
   "metadata": {},
   "outputs": [
    {
     "name": "stdout",
     "output_type": "stream",
     "text": [
      "best point      beta        fval  gamma          n      phim     s1         t0    ti   tr\n",
      "921   1.4  135.852087    0.2  2701743.0  0.089691  0.005  21.836081  4.75  3.0\n"
     ]
    }
   ],
   "source": [
    "fval0 = np.min(dpars.fval)\n",
    "sel0  = dpars.fval == fval0\n",
    "print('best point', dpars[sel0])"
   ]
  },
  {
   "cell_type": "code",
   "execution_count": 11,
   "metadata": {},
   "outputs": [
    {
     "name": "stdout",
     "output_type": "stream",
     "text": [
      "beta 1.416346153846154 0.0669512215224518\n",
      "fval 137.1406621880983 0.8115118743277315\n",
      "gamma 0.20961538461538462 0.01989792958601358\n",
      "n 2701743.0 0.0\n",
      "phim 0.06263085292967191 0.019460269776597223\n",
      "s1 0.007548076923076923 0.0020704731281422067\n",
      "t0 23.759221870681156 1.6981287207644704\n",
      "ti 4.764423076923077 0.24957543133810628\n",
      "tr 2.9038461538461537 0.19897929586013585\n"
     ]
    }
   ],
   "source": [
    "sel = (dpars.fval <= v0 + 3.)\n",
    "for name in dpars.columns:\n",
    "    print(name, dpars[sel][name].mean(), dpars[sel][name].std())"
   ]
  },
  {
   "cell_type": "markdown",
   "metadata": {},
   "source": [
    "## range of parameters\n",
    "\n",
    "Select region in $\\Delta \\chi^2  \\le 9$, consider average and standard deviation:\n",
    "\n",
    " * $\\beta  = 1.416 \\pm  0.067$\n",
    " * $\\gamma = 0.21  \\pm 0.02$\n",
    " * $\\phi  =  0.06  \\pm 0.02$ detected fraction of cases\n",
    " * $s1    = 0.75  \\pm 0.21 $ fraction of galician population affected\n",
    " * $t_0   = 23.8  \\pm  1.7 $ days from start of pandemic\n",
    " * $t_i   =  4.76 \\pm  0.24 $ days of infection \n",
    " * $t_r   = 2.90  \\pm  0.2 $ days of removal"
   ]
  },
  {
   "cell_type": "code",
   "execution_count": 12,
   "metadata": {},
   "outputs": [],
   "source": [
    "kpars = {'beta' : 1.416, 'gamma' : 0.21, 'phim' : 0.06, 's1' : 0.0075, \n",
    "         't0' :23.8, 'ti' : 4.76, 'tr' : 2.9, 'n' : 2701743.0}"
   ]
  },
  {
   "cell_type": "code",
   "execution_count": 13,
   "metadata": {},
   "outputs": [
    {
     "name": "stdout",
     "output_type": "stream",
     "text": [
      "best pars  {'beta': 1.416, 'gamma': 0.21, 'phim': 0.06, 's1': 0.0075, 't0': 23.8, 'ti': 4.76, 'tr': 2.9, 'n': 2701743.0} , chi2  143.00611447928102\n"
     ]
    },
    {
     "data": {
      "image/png": "[encoded data removed]",
      "text/plain": [
       "<Figure size 432x288 with 2 Axes>"
      ]
     },
     "metadata": {
      "needs_background": "light"
     },
     "output_type": "display_data"
    }
   ],
   "source": [
    "fmodel = us.dms_t0useirq_tr\n",
    "plt_kpars(dates, cases, kpars, fmodel, ffit = 'chi2')"
   ]
  }
 ],
 "metadata": {
  "kernelspec": {
   "display_name": "Python 3",
   "language": "python",
   "name": "python3"
  },
  "language_info": {
   "codemirror_mode": {
    "name": "ipython",
    "version": 3
   },
   "file_extension": ".py",
   "mimetype": "text/x-python",
   "name": "python",
   "nbconvert_exporter": "python",
   "pygments_lexer": "ipython3",
   "version": "3.7.3"
  }
 },
 "nbformat": 4,
 "nbformat_minor": 4
}
