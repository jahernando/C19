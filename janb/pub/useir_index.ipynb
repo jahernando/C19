{
 "cells": [
  {
   "cell_type": "markdown",
   "metadata": {},
   "source": [
    "# uSEIR NB index\n",
    "author: JAH, JJG\n",
    "\n",
    "version: 15/07/20\n"
   ]
  },
  {
   "cell_type": "markdown",
   "metadata": {},
   "source": [
    " * [about uSEIR model and uSEIRq (quenched) models](./useir_llfit_ref.ipynb)\n",
    " * [about KF with uSEIR](./useir_kfs_ref.ipynb)\n",
    " * [about SERGAS (Galician) data to compute weibull and $t_m$](./hgalicia_weibull_ref.ipynb)\n",
    " * [about SERGAS (Galician) data to scan times around best point $t_i, t_r, \\beta, \\gamma$](./hgalicia_times_scan_ref.ipynb), and full [scan of parameters](./hgalicia_times_scan_pars_ref.ipynb)\n",
    " * [KFs for CCAA](./useir_kfs_comomo_ref.ipynb)\n",
    " * [uSEIRq fit model for CCAA](./useir_llfit_comomo_ana_ref.ipynb)"
   ]
  },
  {
   "cell_type": "code",
   "execution_count": null,
   "metadata": {},
   "outputs": [],
   "source": []
  }
 ],
 "metadata": {
  "kernelspec": {
   "display_name": "Python 3",
   "language": "python",
   "name": "python3"
  },
  "language_info": {
   "codemirror_mode": {
    "name": "ipython",
    "version": 3
   },
   "file_extension": ".py",
   "mimetype": "text/x-python",
   "name": "python",
   "nbconvert_exporter": "python",
   "pygments_lexer": "ipython3",
   "version": "3.7.3"
  }
 },
 "nbformat": 4,
 "nbformat_minor": 4
}
