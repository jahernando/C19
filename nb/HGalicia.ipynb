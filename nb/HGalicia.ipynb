{
 "cells": [
  {
   "cell_type": "markdown",
   "metadata": {},
   "source": [
    "# HG data"
   ]
  },
  {
   "cell_type": "code",
   "execution_count": 128,
   "metadata": {},
   "outputs": [
    {
     "name": "stdout",
     "output_type": "stream",
     "text": [
      "The autoreload extension is already loaded. To reload it, use:\n",
      "  %reload_ext autoreload\n"
     ]
    }
   ],
   "source": [
    "%matplotlib inline\n",
    "%load_ext autoreload\n",
    "%autoreload 2\n",
    "import matplotlib.pyplot as plt\n",
    "from matplotlib.pyplot import imshow\n",
    "plt.rcParams[\"figure.figsize\"] = 10, 8\n",
    "plt.rcParams[\"font.size\"     ] = 14"
   ]
  },
  {
   "cell_type": "code",
   "execution_count": 129,
   "metadata": {},
   "outputs": [
    {
     "name": "stdout",
     "output_type": "stream",
     "text": [
      "Last updated on  Thu May 21 19:02:46 2020\n"
     ]
    }
   ],
   "source": [
    "import os\n",
    "import sys\n",
    "import glob\n",
    "import time\n",
    "import warnings\n",
    "import datetime \n",
    "import matplotlib.dates as mdates\n",
    "print(\"Last updated on \", time.asctime())"
   ]
  },
  {
   "cell_type": "code",
   "execution_count": 130,
   "metadata": {},
   "outputs": [],
   "source": [
    "import numpy as np\n",
    "import pandas as pd\n",
    "import matplotlib"
   ]
  },
  {
   "cell_type": "code",
   "execution_count": 4,
   "metadata": {},
   "outputs": [],
   "source": [
    "fontsize=20\n",
    "font = {'family': 'serif',\n",
    "        'color':  'black',\n",
    "        'weight': 'bold',\n",
    "        'size': fontsize,\n",
    "        }\n",
    "\n",
    "plt.rcParams[\"font.size\"     ] = fontsize\n"
   ]
  },
  {
   "cell_type": "code",
   "execution_count": 91,
   "metadata": {},
   "outputs": [],
   "source": [
    "datapath=\"/Users/jjgomezcadenas/Projects/Development/C19/data/HospitalesGalicia\"\n",
    "file = \"IngresosCovid.csv\"\n",
    "filep = \"PacientesCOVID.csv\"\n",
    "ff =f'{datapath}/{file}'\n",
    "fp =f'{datapath}/{filep}'\n",
    "dfi = pd.read_csv(ff, sep='|')"
   ]
  },
  {
   "cell_type": "code",
   "execution_count": 24,
   "metadata": {},
   "outputs": [
    {
     "data": {
      "text/html": [
       "<div>\n",
       "<style scoped>\n",
       "    .dataframe tbody tr th:only-of-type {\n",
       "        vertical-align: middle;\n",
       "    }\n",
       "\n",
       "    .dataframe tbody tr th {\n",
       "        vertical-align: top;\n",
       "    }\n",
       "\n",
       "    .dataframe thead th {\n",
       "        text-align: right;\n",
       "    }\n",
       "</style>\n",
       "<table border=\"1\" class=\"dataframe\">\n",
       "  <thead>\n",
       "    <tr style=\"text-align: right;\">\n",
       "      <th></th>\n",
       "      <th>Paciente</th>\n",
       "      <th>Ingreso</th>\n",
       "      <th>Alta</th>\n",
       "      <th>Hosp</th>\n",
       "      <th>Unnamed: 4</th>\n",
       "    </tr>\n",
       "  </thead>\n",
       "  <tbody>\n",
       "    <tr>\n",
       "      <th>0</th>\n",
       "      <td>8</td>\n",
       "      <td>18/03/2020</td>\n",
       "      <td>26/03/2020</td>\n",
       "      <td>HOS</td>\n",
       "      <td>NaN</td>\n",
       "    </tr>\n",
       "    <tr>\n",
       "      <th>1</th>\n",
       "      <td>9</td>\n",
       "      <td>29/03/2020</td>\n",
       "      <td>24/04/2020</td>\n",
       "      <td>HOS</td>\n",
       "      <td>NaN</td>\n",
       "    </tr>\n",
       "    <tr>\n",
       "      <th>2</th>\n",
       "      <td>10</td>\n",
       "      <td>27/03/2020</td>\n",
       "      <td>07/04/2020</td>\n",
       "      <td>HOS</td>\n",
       "      <td>NaN</td>\n",
       "    </tr>\n",
       "    <tr>\n",
       "      <th>3</th>\n",
       "      <td>10</td>\n",
       "      <td>14/04/2020</td>\n",
       "      <td>30/04/2020</td>\n",
       "      <td>HOS</td>\n",
       "      <td>NaN</td>\n",
       "    </tr>\n",
       "    <tr>\n",
       "      <th>4</th>\n",
       "      <td>12</td>\n",
       "      <td>23/03/2020</td>\n",
       "      <td>09/04/2020</td>\n",
       "      <td>HOS</td>\n",
       "      <td>NaN</td>\n",
       "    </tr>\n",
       "  </tbody>\n",
       "</table>\n",
       "</div>"
      ],
      "text/plain": [
       "   Paciente     Ingreso        Alta Hosp  Unnamed: 4\n",
       "0         8  18/03/2020  26/03/2020  HOS         NaN\n",
       "1         9  29/03/2020  24/04/2020  HOS         NaN\n",
       "2        10  27/03/2020  07/04/2020  HOS         NaN\n",
       "3        10  14/04/2020  30/04/2020  HOS         NaN\n",
       "4        12  23/03/2020  09/04/2020  HOS         NaN"
      ]
     },
     "execution_count": 24,
     "metadata": {},
     "output_type": "execute_result"
    }
   ],
   "source": [
    "dfi.head()"
   ]
  },
  {
   "cell_type": "code",
   "execution_count": 26,
   "metadata": {},
   "outputs": [
    {
     "data": {
      "text/plain": [
       "str"
      ]
     },
     "execution_count": 26,
     "metadata": {},
     "output_type": "execute_result"
    }
   ],
   "source": [
    "type(dfi.Ingreso.values[0])"
   ]
  },
  {
   "cell_type": "code",
   "execution_count": null,
   "metadata": {},
   "outputs": [],
   "source": []
  },
  {
   "cell_type": "code",
   "execution_count": 27,
   "metadata": {},
   "outputs": [],
   "source": [
    "def date_spanish_str_to_datetime(d):\n",
    "    if type(d) != str: # this may be a nan because patient still not released set it to infnt\n",
    "        dt = datetime.datetime(int(2030), int(1), int(1))\n",
    "    else:\n",
    "        day, month, year = d.split(\"/\")\n",
    "        dp, mp, yp = day, month, year\n",
    "        dt = datetime.datetime(int(year), int(month), int(day))\n",
    "    return dt\n",
    "\n",
    "    \n",
    "def hg_get_data_ingresos(datapath):\n",
    "    dfi = pd.read_csv(datapath, sep='|')\n",
    "    P  = dfi['Paciente'].values\n",
    "    sI = dfi['Ingreso'].values\n",
    "    sA = dfi['Alta'].values\n",
    "    H  = dfi['Hosp'].values\n",
    "    \n",
    "    dI = [date_spanish_str_to_datetime(d) for d in sI]\n",
    "    dA = [date_spanish_str_to_datetime(d) for d in sA]\n",
    "    \n",
    "    return pd.DataFrame({\"pacienteID\":P,\"ingreso\":dI,\"alta\":dA,\"hosp\":H})\n",
    "   "
   ]
  },
  {
   "cell_type": "code",
   "execution_count": 28,
   "metadata": {},
   "outputs": [],
   "source": [
    "hgi =hg_get_data_ingresos(ff)"
   ]
  },
  {
   "cell_type": "code",
   "execution_count": 29,
   "metadata": {},
   "outputs": [
    {
     "data": {
      "text/html": [
       "<div>\n",
       "<style scoped>\n",
       "    .dataframe tbody tr th:only-of-type {\n",
       "        vertical-align: middle;\n",
       "    }\n",
       "\n",
       "    .dataframe tbody tr th {\n",
       "        vertical-align: top;\n",
       "    }\n",
       "\n",
       "    .dataframe thead th {\n",
       "        text-align: right;\n",
       "    }\n",
       "</style>\n",
       "<table border=\"1\" class=\"dataframe\">\n",
       "  <thead>\n",
       "    <tr style=\"text-align: right;\">\n",
       "      <th></th>\n",
       "      <th>pacienteID</th>\n",
       "      <th>ingreso</th>\n",
       "      <th>alta</th>\n",
       "      <th>hosp</th>\n",
       "    </tr>\n",
       "  </thead>\n",
       "  <tbody>\n",
       "    <tr>\n",
       "      <th>0</th>\n",
       "      <td>8</td>\n",
       "      <td>2020-03-18</td>\n",
       "      <td>2020-03-26</td>\n",
       "      <td>HOS</td>\n",
       "    </tr>\n",
       "    <tr>\n",
       "      <th>1</th>\n",
       "      <td>9</td>\n",
       "      <td>2020-03-29</td>\n",
       "      <td>2020-04-24</td>\n",
       "      <td>HOS</td>\n",
       "    </tr>\n",
       "    <tr>\n",
       "      <th>2</th>\n",
       "      <td>10</td>\n",
       "      <td>2020-03-27</td>\n",
       "      <td>2020-04-07</td>\n",
       "      <td>HOS</td>\n",
       "    </tr>\n",
       "    <tr>\n",
       "      <th>3</th>\n",
       "      <td>10</td>\n",
       "      <td>2020-04-14</td>\n",
       "      <td>2020-04-30</td>\n",
       "      <td>HOS</td>\n",
       "    </tr>\n",
       "    <tr>\n",
       "      <th>4</th>\n",
       "      <td>12</td>\n",
       "      <td>2020-03-23</td>\n",
       "      <td>2020-04-09</td>\n",
       "      <td>HOS</td>\n",
       "    </tr>\n",
       "  </tbody>\n",
       "</table>\n",
       "</div>"
      ],
      "text/plain": [
       "   pacienteID    ingreso       alta hosp\n",
       "0           8 2020-03-18 2020-03-26  HOS\n",
       "1           9 2020-03-29 2020-04-24  HOS\n",
       "2          10 2020-03-27 2020-04-07  HOS\n",
       "3          10 2020-04-14 2020-04-30  HOS\n",
       "4          12 2020-03-23 2020-04-09  HOS"
      ]
     },
     "execution_count": 29,
     "metadata": {},
     "output_type": "execute_result"
    }
   ],
   "source": [
    "hgi.head()"
   ]
  },
  {
   "cell_type": "code",
   "execution_count": 53,
   "metadata": {},
   "outputs": [],
   "source": [
    "np = hgi.groupby(['ingreso']).pacienteID.count()"
   ]
  },
  {
   "cell_type": "code",
   "execution_count": 64,
   "metadata": {},
   "outputs": [
    {
     "data": {
      "text/plain": [
       "ingreso\n",
       "2019-12-23    1\n",
       "2020-01-11    1\n",
       "2020-01-12    1\n",
       "2020-01-18    1\n",
       "2020-01-19    1\n",
       "Name: pacienteID, dtype: int64"
      ]
     },
     "execution_count": 64,
     "metadata": {},
     "output_type": "execute_result"
    }
   ],
   "source": [
    "np.head()"
   ]
  },
  {
   "cell_type": "code",
   "execution_count": 60,
   "metadata": {},
   "outputs": [],
   "source": [
    "def formatter(ax):\n",
    "    locator = mdates.AutoDateLocator(minticks=3, maxticks=7)\n",
    "    formatter = mdates.ConciseDateFormatter(locator)\n",
    "    ax.xaxis.set_major_locator(locator)\n",
    "    ax.xaxis.set_major_formatter(formatter)\n",
    "\n",
    "def formats(ax, xlabel, ylabel, logscale=False):\n",
    "    plt.xlabel(xlabel)\n",
    "    plt.ylabel(ylabel)\n",
    "    if logscale:\n",
    "        plt.yscale('log')\n"
   ]
  },
  {
   "cell_type": "code",
   "execution_count": 62,
   "metadata": {},
   "outputs": [],
   "source": [
    "def plot_hgi(nps, figsize=(14,14)):\n",
    "  \n",
    "    fig = plt.figure(figsize=figsize)\n",
    "  \n",
    "    X = nps.index\n",
    "    Y = nps.values\n",
    "    ax      = fig.add_subplot(111)\n",
    "    plt.plot(X, Y, 'bo')\n",
    "    formats(ax,'ingresos','casos',False)\n",
    "    formatter(ax)\n",
    "    plt.show()"
   ]
  },
  {
   "cell_type": "code",
   "execution_count": 63,
   "metadata": {},
   "outputs": [
    {
     "data": {
      "image/png": "[encoded data removed]",
      "text/plain": [
       "<Figure size 1008x1008 with 1 Axes>"
      ]
     },
     "metadata": {
      "needs_background": "light"
     },
     "output_type": "display_data"
    }
   ],
   "source": [
    "plot_hgi(np, figsize=(14,14))"
   ]
  },
  {
   "cell_type": "code",
   "execution_count": 78,
   "metadata": {},
   "outputs": [],
   "source": [
    "def recovery_time(hgi):\n",
    "    tR = []\n",
    "    for ti, group in hgi.groupby(['ingreso']).alta:\n",
    "        #print(f'ti={ti}')\n",
    "        #print(f'group index ={group.index} group values {group.values}')\n",
    "        tas = group.values\n",
    "        for ta in tas:\n",
    "            nt = ti.to_datetime64()\n",
    "            dt = ta - nt\n",
    "            dtd = pd.to_datetime(dt).day\n",
    "            tR.append(dtd)\n",
    "    return tR\n",
    "    \n",
    "    "
   ]
  },
  {
   "cell_type": "code",
   "execution_count": 79,
   "metadata": {},
   "outputs": [],
   "source": [
    "tR = recovery_time(hgi)"
   ]
  },
  {
   "cell_type": "code",
   "execution_count": 80,
   "metadata": {},
   "outputs": [
    {
     "data": {
      "text/plain": [
       "(array([392., 525., 593., 487., 355., 205., 150.,  83.,  76., 158.]),\n",
       " array([ 1.,  4.,  7., 10., 13., 16., 19., 22., 25., 28., 31.]),\n",
       " <a list of 10 Patch objects>)"
      ]
     },
     "execution_count": 80,
     "metadata": {},
     "output_type": "execute_result"
    },
    {
     "data": {
      "image/png": "[encoded data removed]",
      "text/plain": [
       "<Figure size 720x576 with 1 Axes>"
      ]
     },
     "metadata": {
      "needs_background": "light"
     },
     "output_type": "display_data"
    }
   ],
   "source": [
    "plt.hist(tR)"
   ]
  },
  {
   "cell_type": "code",
   "execution_count": null,
   "metadata": {},
   "outputs": [],
   "source": []
  },
  {
   "cell_type": "code",
   "execution_count": 84,
   "metadata": {},
   "outputs": [],
   "source": [
    "def hosp_uci(hgi):\n",
    "    nH = []\n",
    "    nU = []\n",
    "    tD = []\n",
    "    for ti, group in hgi.groupby(['ingreso']).hosp:\n",
    "        tD.append(ti)\n",
    "        #print(f'ti={ti}')\n",
    "        #print(f'group index ={group.index} group values {group.values}')\n",
    "        nh = 0\n",
    "        nu = 0\n",
    "        for g in group:\n",
    "            if g == 'HOS': \n",
    "                nh += 1\n",
    "            elif g == 'UCI':\n",
    "                nu += 1\n",
    "        nH.append(nh)\n",
    "        nU.append(nu)\n",
    "    return tD, nH, nU\n",
    "            \n",
    "                \n",
    "        \n"
   ]
  },
  {
   "cell_type": "code",
   "execution_count": 85,
   "metadata": {},
   "outputs": [],
   "source": [
    "tD, nH, nU = hosp_uci(hgi) "
   ]
  },
  {
   "cell_type": "code",
   "execution_count": 87,
   "metadata": {},
   "outputs": [],
   "source": [
    "def plot_nh_nu(tD, nH, nU, figsize=(14,14)):\n",
    "  \n",
    "    fig = plt.figure(figsize=figsize)\n",
    "  \n",
    "    ax      = fig.add_subplot(2,1,1)\n",
    "    plt.plot(tD, nH, 'bo')\n",
    "    formats(ax,'ingresos','hospital',False)\n",
    "    formatter(ax)\n",
    "\n",
    "    ax      = fig.add_subplot(2,1,2)\n",
    "    plt.plot(tD, nU, 'bo')\n",
    "    formats(ax,'ingresos','uci',False)\n",
    "    formatter(ax)\n",
    "\n",
    "    plt.show()"
   ]
  },
  {
   "cell_type": "code",
   "execution_count": 88,
   "metadata": {},
   "outputs": [
    {
     "data": {
      "image/png": "[encoded data removed]",
      "text/plain": [
       "<Figure size 1008x1008 with 2 Axes>"
      ]
     },
     "metadata": {
      "needs_background": "light"
     },
     "output_type": "display_data"
    }
   ],
   "source": [
    "plot_nh_nu(tD, nH, nU, figsize=(14,14))"
   ]
  },
  {
   "cell_type": "code",
   "execution_count": 96,
   "metadata": {},
   "outputs": [],
   "source": [
    "def hg_get_data_pacientes(datapath):\n",
    "    dfi = pd.read_csv(datapath, sep='|')\n",
    "    P  = dfi['Paciente'].values\n",
    "    sI = dfi['Ingreso'].values\n",
    "    sA = dfi['Alta'].values\n",
    "    E  = dfi['Edad'].values\n",
    "    S  = dfi['Sexo'].values\n",
    "    C  = dfi['Code'].values\n",
    "    \n",
    "    dI = [date_spanish_str_to_datetime(d) for d in sI]\n",
    "    dA = [date_spanish_str_to_datetime(d) for d in sA]\n",
    "    \n",
    "    return pd.DataFrame({\"pacienteID\":P,\"ingreso\":dI,\"alta\":dA,\"edad\":E,\"sexo\":S,\"code\":C})\n"
   ]
  },
  {
   "cell_type": "code",
   "execution_count": 95,
   "metadata": {},
   "outputs": [
    {
     "data": {
      "text/html": [
       "<div>\n",
       "<style scoped>\n",
       "    .dataframe tbody tr th:only-of-type {\n",
       "        vertical-align: middle;\n",
       "    }\n",
       "\n",
       "    .dataframe tbody tr th {\n",
       "        vertical-align: top;\n",
       "    }\n",
       "\n",
       "    .dataframe thead th {\n",
       "        text-align: right;\n",
       "    }\n",
       "</style>\n",
       "<table border=\"1\" class=\"dataframe\">\n",
       "  <thead>\n",
       "    <tr style=\"text-align: right;\">\n",
       "      <th></th>\n",
       "      <th>Paciente</th>\n",
       "      <th>Ingreso</th>\n",
       "      <th>Edad</th>\n",
       "      <th>Sexo</th>\n",
       "      <th>Alta</th>\n",
       "      <th>Code</th>\n",
       "      <th>Registro</th>\n",
       "      <th>ZIP</th>\n",
       "      <th>Unnamed: 8</th>\n",
       "    </tr>\n",
       "  </thead>\n",
       "  <tbody>\n",
       "    <tr>\n",
       "      <th>0</th>\n",
       "      <td>1</td>\n",
       "      <td>25/03/2020</td>\n",
       "      <td>102</td>\n",
       "      <td>Mujer</td>\n",
       "      <td>30/03/2020</td>\n",
       "      <td>EXITUS</td>\n",
       "      <td>A.S. OURENSE, VERIN E O BARCO</td>\n",
       "      <td>32633.0</td>\n",
       "      <td>NaN</td>\n",
       "    </tr>\n",
       "    <tr>\n",
       "      <th>1</th>\n",
       "      <td>2</td>\n",
       "      <td>27/03/2020</td>\n",
       "      <td>101</td>\n",
       "      <td>Mujer</td>\n",
       "      <td>31/03/2020</td>\n",
       "      <td>EXITUS</td>\n",
       "      <td>A.S. VIGO</td>\n",
       "      <td>36205.0</td>\n",
       "      <td>NaN</td>\n",
       "    </tr>\n",
       "    <tr>\n",
       "      <th>2</th>\n",
       "      <td>3</td>\n",
       "      <td>27/03/2020</td>\n",
       "      <td>100</td>\n",
       "      <td>Mujer</td>\n",
       "      <td>19/04/2020</td>\n",
       "      <td>EXITUS</td>\n",
       "      <td>A.S. OURENSE, VERIN E O BARCO</td>\n",
       "      <td>32800.0</td>\n",
       "      <td>NaN</td>\n",
       "    </tr>\n",
       "    <tr>\n",
       "      <th>3</th>\n",
       "      <td>4</td>\n",
       "      <td>01/04/2020</td>\n",
       "      <td>99</td>\n",
       "      <td>Mujer</td>\n",
       "      <td>24/04/2020</td>\n",
       "      <td>EXITUS</td>\n",
       "      <td>A.S. A CORU�A E CEE</td>\n",
       "      <td>15009.0</td>\n",
       "      <td>NaN</td>\n",
       "    </tr>\n",
       "    <tr>\n",
       "      <th>4</th>\n",
       "      <td>5</td>\n",
       "      <td>28/03/2020</td>\n",
       "      <td>99</td>\n",
       "      <td>Mujer</td>\n",
       "      <td>05/04/2020</td>\n",
       "      <td>EXITUS</td>\n",
       "      <td>A.S. OURENSE, VERIN E O BARCO</td>\n",
       "      <td>32710.0</td>\n",
       "      <td>NaN</td>\n",
       "    </tr>\n",
       "  </tbody>\n",
       "</table>\n",
       "</div>"
      ],
      "text/plain": [
       "   Paciente     Ingreso  Edad   Sexo        Alta    Code  \\\n",
       "0         1  25/03/2020   102  Mujer  30/03/2020  EXITUS   \n",
       "1         2  27/03/2020   101  Mujer  31/03/2020  EXITUS   \n",
       "2         3  27/03/2020   100  Mujer  19/04/2020  EXITUS   \n",
       "3         4  01/04/2020    99  Mujer  24/04/2020  EXITUS   \n",
       "4         5  28/03/2020    99  Mujer  05/04/2020  EXITUS   \n",
       "\n",
       "                        Registro      ZIP  Unnamed: 8  \n",
       "0  A.S. OURENSE, VERIN E O BARCO  32633.0         NaN  \n",
       "1                      A.S. VIGO  36205.0         NaN  \n",
       "2  A.S. OURENSE, VERIN E O BARCO  32800.0         NaN  \n",
       "3            A.S. A CORU�A E CEE  15009.0         NaN  \n",
       "4  A.S. OURENSE, VERIN E O BARCO  32710.0         NaN  "
      ]
     },
     "execution_count": 95,
     "metadata": {},
     "output_type": "execute_result"
    }
   ],
   "source": [
    "dfp = pd.read_csv(fp, sep='|')\n",
    "dfp.head()"
   ]
  },
  {
   "cell_type": "code",
   "execution_count": 97,
   "metadata": {},
   "outputs": [],
   "source": [
    "dfp = hg_get_data_pacientes(fp)"
   ]
  },
  {
   "cell_type": "code",
   "execution_count": 98,
   "metadata": {},
   "outputs": [
    {
     "data": {
      "text/html": [
       "<div>\n",
       "<style scoped>\n",
       "    .dataframe tbody tr th:only-of-type {\n",
       "        vertical-align: middle;\n",
       "    }\n",
       "\n",
       "    .dataframe tbody tr th {\n",
       "        vertical-align: top;\n",
       "    }\n",
       "\n",
       "    .dataframe thead th {\n",
       "        text-align: right;\n",
       "    }\n",
       "</style>\n",
       "<table border=\"1\" class=\"dataframe\">\n",
       "  <thead>\n",
       "    <tr style=\"text-align: right;\">\n",
       "      <th></th>\n",
       "      <th>pacienteID</th>\n",
       "      <th>ingreso</th>\n",
       "      <th>alta</th>\n",
       "      <th>edad</th>\n",
       "      <th>sexo</th>\n",
       "      <th>code</th>\n",
       "    </tr>\n",
       "  </thead>\n",
       "  <tbody>\n",
       "    <tr>\n",
       "      <th>0</th>\n",
       "      <td>1</td>\n",
       "      <td>2020-03-25</td>\n",
       "      <td>2020-03-30</td>\n",
       "      <td>102</td>\n",
       "      <td>Mujer</td>\n",
       "      <td>EXITUS</td>\n",
       "    </tr>\n",
       "    <tr>\n",
       "      <th>1</th>\n",
       "      <td>2</td>\n",
       "      <td>2020-03-27</td>\n",
       "      <td>2020-03-31</td>\n",
       "      <td>101</td>\n",
       "      <td>Mujer</td>\n",
       "      <td>EXITUS</td>\n",
       "    </tr>\n",
       "    <tr>\n",
       "      <th>2</th>\n",
       "      <td>3</td>\n",
       "      <td>2020-03-27</td>\n",
       "      <td>2020-04-19</td>\n",
       "      <td>100</td>\n",
       "      <td>Mujer</td>\n",
       "      <td>EXITUS</td>\n",
       "    </tr>\n",
       "    <tr>\n",
       "      <th>3</th>\n",
       "      <td>4</td>\n",
       "      <td>2020-04-01</td>\n",
       "      <td>2020-04-24</td>\n",
       "      <td>99</td>\n",
       "      <td>Mujer</td>\n",
       "      <td>EXITUS</td>\n",
       "    </tr>\n",
       "    <tr>\n",
       "      <th>4</th>\n",
       "      <td>5</td>\n",
       "      <td>2020-03-28</td>\n",
       "      <td>2020-04-05</td>\n",
       "      <td>99</td>\n",
       "      <td>Mujer</td>\n",
       "      <td>EXITUS</td>\n",
       "    </tr>\n",
       "  </tbody>\n",
       "</table>\n",
       "</div>"
      ],
      "text/plain": [
       "   pacienteID    ingreso       alta  edad   sexo    code\n",
       "0           1 2020-03-25 2020-03-30   102  Mujer  EXITUS\n",
       "1           2 2020-03-27 2020-03-31   101  Mujer  EXITUS\n",
       "2           3 2020-03-27 2020-04-19   100  Mujer  EXITUS\n",
       "3           4 2020-04-01 2020-04-24    99  Mujer  EXITUS\n",
       "4           5 2020-03-28 2020-04-05    99  Mujer  EXITUS"
      ]
     },
     "execution_count": 98,
     "metadata": {},
     "output_type": "execute_result"
    }
   ],
   "source": [
    "dfp.head()"
   ]
  },
  {
   "cell_type": "code",
   "execution_count": 99,
   "metadata": {},
   "outputs": [],
   "source": [
    "def exitus_time(dfp, sexo='Hombre'):\n",
    "    df    = dfp.loc[dfp.code == \"EXITUS\", ('pacienteID', 'ingreso', 'alta', 'edad', 'sexo')]\n",
    "    dfs   = df.loc[df.sexo == sexo, ('pacienteID', 'ingreso', 'alta', 'edad')]\n",
    "    tR = []\n",
    "    for ti, group in dfs.groupby(['ingreso']).alta:\n",
    "        #print(f'ti={ti}')\n",
    "        #print(f'group index ={group.index} group values {group.values}')\n",
    "        tas = group.values\n",
    "        for ta in tas:\n",
    "            nt = ti.to_datetime64()\n",
    "            dt = ta - nt\n",
    "            dtd = pd.to_datetime(dt).day\n",
    "            tR.append(dtd)\n",
    "    return tR\n"
   ]
  },
  {
   "cell_type": "code",
   "execution_count": 168,
   "metadata": {},
   "outputs": [],
   "source": [
    "thE = exitus_time(dfp, sexo='Hombre')"
   ]
  },
  {
   "cell_type": "code",
   "execution_count": 169,
   "metadata": {},
   "outputs": [
    {
     "data": {
      "text/plain": [
       "(array([55., 68., 56., 40., 20., 19., 20.,  9., 11.,  9.]),\n",
       " array([ 1.,  4.,  7., 10., 13., 16., 19., 22., 25., 28., 31.]),\n",
       " <a list of 10 Patch objects>)"
      ]
     },
     "execution_count": 169,
     "metadata": {},
     "output_type": "execute_result"
    },
    {
     "data": {
      "image/png": "[encoded data removed]",
      "text/plain": [
       "<Figure size 720x576 with 1 Axes>"
      ]
     },
     "metadata": {
      "needs_background": "light"
     },
     "output_type": "display_data"
    }
   ],
   "source": [
    "plt.hist(thE)"
   ]
  },
  {
   "cell_type": "code",
   "execution_count": 102,
   "metadata": {},
   "outputs": [],
   "source": [
    "tmE = exitus_time(dfp, sexo='Mujer')"
   ]
  },
  {
   "cell_type": "code",
   "execution_count": 103,
   "metadata": {},
   "outputs": [
    {
     "data": {
      "text/plain": [
       "(array([34., 42., 38., 49., 15., 22.,  8., 12.,  6., 11.]),\n",
       " array([ 1.,  4.,  7., 10., 13., 16., 19., 22., 25., 28., 31.]),\n",
       " <a list of 10 Patch objects>)"
      ]
     },
     "execution_count": 103,
     "metadata": {},
     "output_type": "execute_result"
    },
    {
     "data": {
      "image/png": "[encoded data removed]",
      "text/plain": [
       "<Figure size 720x576 with 1 Axes>"
      ]
     },
     "metadata": {
      "needs_background": "light"
     },
     "output_type": "display_data"
    }
   ],
   "source": [
    "plt.hist(tmE)"
   ]
  },
  {
   "cell_type": "code",
   "execution_count": 122,
   "metadata": {},
   "outputs": [],
   "source": [
    "def plot_XY_series(ss,xlabel='ingresos',ylabel='casos',figsize=(14,14)):\n",
    "    fig = plt.figure(figsize=figsize)\n",
    "    X = ss.index\n",
    "    Y = ss.values\n",
    "    print(type(X[0]))\n",
    "    ax      = fig.add_subplot(111)\n",
    "    plt.plot(X, Y, 'bo')\n",
    "    formats(ax,xlabel,ylabel,False)\n",
    "    formatter(ax)\n",
    "    plt.show()\n"
   ]
  },
  {
   "cell_type": "code",
   "execution_count": null,
   "metadata": {},
   "outputs": [],
   "source": [
    "def exitus_age(dfp, sexo='Hombre',figsize=(14,14)):\n",
    "    df    = dfp.loc[dfp.code == \"EXITUS\", ('pacienteID', 'ingreso', 'alta', 'edad', 'sexo')]\n",
    "    dfs   = df.loc[df.sexo == sexo, ('pacienteID', 'ingreso', 'alta', 'edad')]\n",
    "    np = dfs.groupby(['ingreso']).edad.count()\n",
    "    \n",
    "    fig = plt.figure(figsize=figsize)\n",
    "  \n",
    "    X = np.index\n",
    "    Y = np.values\n",
    "    ax      = fig.add_subplot(111)\n",
    "    plt.plot(X, Y, 'bo')\n",
    "    formats(ax,'ingresos','casos',False)\n",
    "    formatter(ax)\n",
    "    plt.show()\n"
   ]
  },
  {
   "cell_type": "code",
   "execution_count": null,
   "metadata": {},
   "outputs": [],
   "source": [
    "def exitus_age(dfp, sexo='Hombre',figsize=(14,14)):\n",
    "    df    = dfp.loc[dfp.code == \"EXITUS\", ('pacienteID', 'ingreso', 'alta', 'edad', 'sexo')]\n",
    "    \n",
    "    if sexo == \"Hombre\" or sexo == \"Mujer\":\n",
    "        dfs   = df.loc[df.sexo == sexo, ('pacienteID', 'ingreso', 'alta', 'edad')]\n",
    "    else:\n",
    "        dfs = df\n",
    "    tR = []\n",
    "    np =dfs.groupby(['edad']).pacienteID.count:\n",
    "   "
   ]
  },
  {
   "cell_type": "code",
   "execution_count": 164,
   "metadata": {},
   "outputs": [],
   "source": [
    "def exitus(dfp, sexo='Hombre',groupby='edad'):\n",
    "    df    = dfp.loc[dfp.code == \"EXITUS\", ('pacienteID', 'ingreso', 'alta', 'edad', 'sexo')]\n",
    "    \n",
    "    if sexo == \"Hombre\" or sexo == \"Mujer\":\n",
    "        dfs   = df.loc[df.sexo == sexo, ('pacienteID', 'ingreso', 'alta', 'edad')]\n",
    "    else:\n",
    "        dfs = df\n",
    "        \n",
    "    np =dfs.groupby([groupby]).pacienteID.count()\n",
    "    \n",
    "    print(f' exitus fraction = {len(df)/len(dfp)}')\n",
    "    return np\n"
   ]
  },
  {
   "cell_type": "code",
   "execution_count": 170,
   "metadata": {},
   "outputs": [
    {
     "name": "stdout",
     "output_type": "stream",
     "text": [
      " exitus fraction = 0.05203749760857088\n"
     ]
    }
   ],
   "source": [
    "ex = exitus(dfp, sexo='all',groupby='edad')"
   ]
  },
  {
   "cell_type": "code",
   "execution_count": 157,
   "metadata": {},
   "outputs": [],
   "source": [
    "dfc = exitus(dfp, sexo='all',groupby='ingreso')"
   ]
  },
  {
   "cell_type": "code",
   "execution_count": 171,
   "metadata": {},
   "outputs": [
    {
     "name": "stdout",
     "output_type": "stream",
     "text": [
      "<class 'pandas._libs.tslibs.timestamps.Timestamp'>\n"
     ]
    },
    {
     "data": {
      "image/png": "[encoded data removed]",
      "text/plain": [
       "<Figure size 1008x1008 with 1 Axes>"
      ]
     },
     "metadata": {
      "needs_background": "light"
     },
     "output_type": "display_data"
    }
   ],
   "source": [
    "plot_XY_series(dfc,xlabel='ingresos',ylabel='exitus',figsize=(14,14))"
   ]
  },
  {
   "cell_type": "code",
   "execution_count": null,
   "metadata": {},
   "outputs": [],
   "source": []
  },
  {
   "cell_type": "code",
   "execution_count": 162,
   "metadata": {},
   "outputs": [],
   "source": [
    "def bin_shift(bins):\n",
    "    BINS = []\n",
    "    for i in range(len(bins) -1):\n",
    "        b = (bins[i] + bins[i+1]) / 2\n",
    "        BINS.append(b)\n",
    "    return BINS\n",
    "\n",
    "def hist_XY_series(ss,xlabel='ingresos',ylabel='casos',figsize=(14,14)):\n",
    "    fig = plt.figure(figsize=figsize)\n",
    "    bins = np.linspace(ss.index.min(), ss.index.max(), 10)\n",
    "    groups = ss.groupby(pd.cut(ss.index, bins))\n",
    "    \n",
    "    vals = groups.mean().values\n",
    "    ax      = fig.add_subplot(111)\n",
    "    xbins = bin_shift(bins)\n",
    "    print(xbins)\n",
    "    print(vals)\n",
    "    \n",
    "    tot = np.sum(vals)\n",
    "    plt.plot(xbins, vals/tot, 'bo')\n",
    "    ax.vlines(xbins, 0, vals/tot, colors='b', lw=5, alpha=0.5)\n",
    "\n",
    "    formats(ax,xlabel,ylabel,False)\n",
    "    \n",
    "    plt.show()\n"
   ]
  },
  {
   "cell_type": "code",
   "execution_count": 163,
   "metadata": {},
   "outputs": [
    {
     "name": "stdout",
     "output_type": "stream",
     "text": [
      "[38.72222222222222, 46.166666666666664, 53.611111111111114, 61.05555555555556, 68.5, 75.94444444444446, 83.38888888888889, 90.83333333333334, 98.27777777777777]\n",
      "[ 2.          1.5         2.33333333  3.          6.25       11.71428571\n",
      " 23.5        20.85714286  4.625     ]\n"
     ]
    },
    {
     "data": {
      "image/png": "[encoded data removed]",
      "text/plain": [
       "<Figure size 1008x1008 with 1 Axes>"
      ]
     },
     "metadata": {
      "needs_background": "light"
     },
     "output_type": "display_data"
    }
   ],
   "source": [
    "hist_XY_series(ex,xlabel='edad',ylabel='frecuencia',figsize=(14,14))"
   ]
  }
 ],
 "metadata": {
  "kernelspec": {
   "display_name": "Python 3",
   "language": "python",
   "name": "python3"
  },
  "language_info": {
   "codemirror_mode": {
    "name": "ipython",
    "version": 3
   },
   "file_extension": ".py",
   "mimetype": "text/x-python",
   "name": "python",
   "nbconvert_exporter": "python",
   "pygments_lexer": "ipython3",
   "version": "3.7.6"
  }
 },
 "nbformat": 4,
 "nbformat_minor": 4
}
