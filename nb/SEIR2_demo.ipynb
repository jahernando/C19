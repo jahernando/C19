{
 "cells": [
  {
   "cell_type": "markdown",
   "metadata": {},
   "source": [
    "# SIR"
   ]
  },
  {
   "cell_type": "code",
   "execution_count": 5,
   "metadata": {},
   "outputs": [
    {
     "name": "stdout",
     "output_type": "stream",
     "text": [
      "The autoreload extension is already loaded. To reload it, use:\n",
      "  %reload_ext autoreload\n"
     ]
    }
   ],
   "source": [
    "%matplotlib inline\n",
    "%load_ext autoreload\n",
    "%autoreload 2\n",
    "import matplotlib.pyplot as plt\n",
    "from matplotlib.pyplot import imshow\n",
    "plt.rcParams[\"figure.figsize\"] = 10, 8\n",
    "plt.rcParams[\"font.size\"     ] = 14"
   ]
  },
  {
   "cell_type": "code",
   "execution_count": 6,
   "metadata": {},
   "outputs": [
    {
     "name": "stdout",
     "output_type": "stream",
     "text": [
      "Last updated on  Sat Apr  4 11:49:05 2020\n"
     ]
    }
   ],
   "source": [
    "import os\n",
    "import sys\n",
    "import glob\n",
    "import time\n",
    "import warnings\n",
    "import datetime \n",
    "print(\"Last updated on \", time.asctime())"
   ]
  },
  {
   "cell_type": "code",
   "execution_count": 7,
   "metadata": {},
   "outputs": [],
   "source": [
    "import numpy as np\n",
    "import pandas as pd\n",
    "import matplotlib"
   ]
  },
  {
   "cell_type": "code",
   "execution_count": 8,
   "metadata": {},
   "outputs": [],
   "source": [
    "fontsize=20\n",
    "font = {'family': 'serif',\n",
    "        'color':  'black',\n",
    "        'weight': 'bold',\n",
    "        'size': fontsize,\n",
    "        }\n",
    "\n",
    "plt.rcParams[\"font.size\"     ] = fontsize\n"
   ]
  },
  {
   "cell_type": "code",
   "execution_count": 9,
   "metadata": {},
   "outputs": [],
   "source": [
    "from scipy.integrate import odeint\n",
    "import scipy.integrate as spi\n",
    "from scipy.interpolate import interp1d\n"
   ]
  },
  {
   "cell_type": "code",
   "execution_count": 10,
   "metadata": {},
   "outputs": [],
   "source": [
    "from dataclasses import dataclass, field"
   ]
  },
  {
   "cell_type": "code",
   "execution_count": 11,
   "metadata": {},
   "outputs": [],
   "source": [
    "from c19.types import SIR, SEIR"
   ]
  },
  {
   "cell_type": "code",
   "execution_count": 12,
   "metadata": {},
   "outputs": [],
   "source": [
    "import c19.basic_models as cbm\n",
    "import c19.core_functions as cf\n",
    "import c19.plotting as cplt\n",
    "import c19.utils as ut"
   ]
  },
  {
   "cell_type": "code",
   "execution_count": 13,
   "metadata": {},
   "outputs": [],
   "source": [
    "from ipywidgets import interact, interactive, fixed, interact_manual\n",
    "import ipywidgets as widgets"
   ]
  },
  {
   "cell_type": "code",
   "execution_count": 21,
   "metadata": {},
   "outputs": [],
   "source": [
    "from IPython.display import Image"
   ]
  },
  {
   "cell_type": "code",
   "execution_count": null,
   "metadata": {},
   "outputs": [],
   "source": []
  },
  {
   "cell_type": "markdown",
   "metadata": {},
   "source": [
    "# Modelo SEIR extendido (I)\n",
    "\n",
    "En la versión más sencilla de SEIR no se distingue entre los individuos que se recuperan y los que fallecen. En esta extensión vamos a añadir este factor. Las ecuaciones son:\n",
    "\n",
    "$$\n",
    "\\frac{dS}{dt} = - \\frac{\\beta}{N} S I \\\\\n",
    "\\frac{dE}{dt} = \\frac{\\beta}{N} I - \\sigma E \\\\\n",
    "\\frac{dI}{dt} = \\sigma E - \\gamma I \\\\\n",
    "\\frac{dR}{dt} = (1 - \\phi) \\gamma I \\\\\n",
    "\\frac{dD}{dt} = \\phi \\gamma I -g D \\\\\n",
    "M =g D \\\\\n",
    "P = gD - \\lambda P\n",
    "$$\n",
    "\n",
    "En el modelo SIR teníamos tres ecuaciones que describían la transición entre las categorías S, I y R. En el modelo SEIR, tenemos una ecuación más tal como se muestra en la figura. \n",
    "\n",
    "![title](sir-seir.png)\n",
    "\n",
    "\n",
    "En este caso, la población de S (susceptibles) disminuye a favor de la población E (expuestos) en lugar de hacerlo directamente a favor de I (infectados). De E a I se pasa mediante una tasa controlada por la inversa del tiempo de incubación (a medida que los expuestos alcanzan dicho tiempo se transforman en infecciosos y saltan de categoría) y de I a R se pasa mediante una tasa controlada por el tiempo de recuperación. SEIR se define por tanto en términos de dos parámetros que ya conocíamos, a saber, la tasa de recuperación ($\\gamma  = 1/T$, donde T es el tiempo requerido para recuperarse, o lo que es lo mismo el tiempo que se permanece infeccioso) y el producto de la tasa de contacto y la probabilidad de transmisión ($\\beta$) ---recordemos que el número de reproducción básica se obtiene a partir de estos dos, $R_0 = \\beta/\\gamma$. A estas cantidades añadimos una tercera, la tasa de infección, $\\sigma$ ($\\sigma = 1/T_i$, donde $T_i$ es el tiempo de incubación de la enfermedad, con un valor típico de 5 días [Backer JA, Klinkenberg D, Wallinga J. The incubation period of 2019-nCoV infections among travellers from Wuhan, China. medRxiv 2020; published online Jan 28. DOI:10.1101/2020.01.27.20018986 ]). \n",
    "\n",
    "\n",
    "El programa interactivo permite estudiar como evolucionan las cuatro poblaciones en función de T, $T_i$ y $R_0$.  Los resultados pueden presentarse en términos de la fracción relativa de la población, o en términos absolutos, especificando el valor de la población total, N. También puede variarse la fracción de la población que está en cuarentena (medidas de contención). Si el 100 % o más de la población está en cuarentena la epidemia desaparece, mientras que para valores entre 0 y 100 % la curva se aplana (también hay controles para visualizar el tiempo total de la infección). \n",
    "\n",
    "Como ejemplo, podemos empezar por fijar los parámetros a los siguientes valores: $R_0=3.5$, $T = 5$ días, $T_i =5$ días. N = 47 millones (población aproximada de España), Q=0 (no hay población en cuarentena) y tf=100 (para ver bien la escala temporal). El modelo nos dice que el pico de la infección se alcanza hacia el día 50 y el número de infectados ese día es algo más de 800,000. La enfermedad necesita unos 80-90 días para agotarse, y en ese momento la mayor parte de la población se ha contagiado y se ha recuperado (recordemos que SIR cuenta las defunciones como \"recuperados\").\n",
    "\n",
    "Si ahora fijamos Q a un valor intermedio (Q = 50 %) y alargamos la escala de tiempo hasta 200 días (tf = 200) vemos que la curva de infección \"se aplana\", el pico llega mucho más tarde (a los 120 días) y es más bajo (menos de trescientos mil infectados en el pico). Aún así, la fracción de la población que se infecta al final es alta (del orden del 70%, podemos verlo quitando el click de la casilla \"absolute\").  \n",
    "\n",
    "Para valores de Q lo bastante grandes (~70 %) podemos ver que la infección desaparece... pero no olvidar que esta versión simple del modelo no toma en cuenta un posible repunte. \n"
   ]
  },
  {
   "cell_type": "markdown",
   "metadata": {},
   "source": [
    "## Frozen example"
   ]
  },
  {
   "cell_type": "code",
   "execution_count": 46,
   "metadata": {},
   "outputs": [],
   "source": [
    "N                = 4.7e+7\n",
    "ND               = 800\n",
    "TS               = 1.0\n",
    "t_start          = 0.0 \n",
    "t_end            = ND \n",
    "t_inc            = TS\n",
    "t_range          = np.arange(t_start, t_end+t_inc, t_inc)\n",
    "RX, Gamma, Sigma = 3.5, 1./5, 1./5. \n",
    "Beta             = Gamma * R0\n",
    "I0, E0           = 1E-4, 1E-4\n",
    "S0               = 1 - I0 - E0\n",
    "Y0               = (S0, E0, I0)\n"
   ]
  },
  {
   "cell_type": "code",
   "execution_count": 47,
   "metadata": {},
   "outputs": [],
   "source": [
    "seir = cbm.compute_seir(N, Y0, RX, Gamma, Sigma, t_range, ts = [(0, 400)], ms=[1.0])"
   ]
  },
  {
   "cell_type": "code",
   "execution_count": 50,
   "metadata": {},
   "outputs": [
    {
     "data": {
      "image/png": "[encoded data removed]",
      "text/plain": [
       "<Figure size 720x720 with 1 Axes>"
      ]
     },
     "metadata": {
      "needs_background": "light"
     },
     "output_type": "display_data"
    }
   ],
   "source": [
    "cplt.plot_seir(seir, f\"R0 = {RX}, T = {1/Gamma} days\", absolute=True,\n",
    "             tmin = 0, tmax = 100, figsize=(10,10))"
   ]
  },
  {
   "cell_type": "markdown",
   "metadata": {},
   "source": [
    "# Interactive example"
   ]
  },
  {
   "cell_type": "code",
   "execution_count": 56,
   "metadata": {},
   "outputs": [],
   "source": [
    "def seir_deriv(y, t, M, beta, gamma, sigma):\n",
    "    \"\"\"\n",
    "    Prepare differential equations for SEIR\n",
    "    Includes a mitigation function\n",
    "    \"\"\"\n",
    "\n",
    "    S, E, I = y\n",
    "    dSdt = -beta * M(t) * S * I\n",
    "    dEdt = beta * M(t) * S * I - sigma * E\n",
    "    dIdt = sigma * E - gamma * I\n",
    "    return dSdt, dEdt, dIdt\n"
   ]
  },
  {
   "cell_type": "code",
   "execution_count": 52,
   "metadata": {},
   "outputs": [],
   "source": [
    "def mitigation_function(t, ts = [(0, 400)], ms=[1]):\n",
    "    \"\"\"Defines a mitigation function as follows:\n",
    "    1) the time of the infection, t, is divided in tranches specified by ts. Thus, for example,\n",
    "    ts =[(0,20), (20,60), (60,100)] would divide a time vector of 100 days in 3 tranches,\n",
    "    the first one\n",
    "    from day 0 to day 20 and so on.\n",
    "    2) ms corresponds to the mitigation factor in each tranch. Thus, [(1, 0.5, 0.8)] in the\n",
    "    example would\n",
    "    mean that the first tranch no mitigation is applied (R0 * 1), and for second and third\n",
    "    tranches the\n",
    "    mitigation would be (R0 * 0.5) and (R0 * 0.8)\n",
    "    \"\"\"\n",
    "    def mitigation(t, ts, ms):\n",
    "        lt = len(t)\n",
    "        lm = len(ms)\n",
    "        x = int(lt /lm)\n",
    "        c = np.ones(lt)\n",
    "        for i, tsi in enumerate(ts):\n",
    "            c[tsi[0]:tsi[1]] = ms[i]\n",
    "        c[-1] = ms[-1]\n",
    "        return c\n",
    "\n",
    "    C = mitigation(t, ts, ms)\n",
    "    M = interp1d(t, C, bounds_error=False, fill_value=\"extrapolate\")\n",
    "    return M\n"
   ]
  },
  {
   "cell_type": "code",
   "execution_count": 63,
   "metadata": {},
   "outputs": [],
   "source": [
    "def set_pretty_ax(ax, facecolor, xlabel, ylabel, xmin, xmax, ymax):\n",
    "    ax.set_facecolor(facecolor)\n",
    "    ax.set_xlabel(xlabel)\n",
    "    ax.set_ylabel(ylabel)\n",
    "    ax.set_ylim(0,ymax)\n",
    "    ax.set_xlim(xmin,xmax)\n",
    "    ax.yaxis.set_tick_params(length=0)\n",
    "    ax.xaxis.set_tick_params(length=0)\n",
    "    ax.ticklabel_format(axis=\"both\", style=\"\", scilimits=None) \n",
    "    ax.grid(b=True, which='major', c='w', lw=2, ls='-')\n",
    "    legend = ax.legend()\n",
    "    legend.get_frame().set_alpha(0.5)\n",
    "    for spine in ('top', 'right', 'bottom', 'left'):\n",
    "        ax.spines[spine].set_visible(False)\n"
   ]
  },
  {
   "cell_type": "code",
   "execution_count": 66,
   "metadata": {},
   "outputs": [
    {
     "data": {
      "application/vnd.jupyter.widget-view+json": {
       "model_id": "9a6911b01ee84678a25dc9d7e44e34e4",
       "version_major": 2,
       "version_minor": 0
      },
      "text/plain": [
       "interactive(children=(FloatSlider(value=5050000.0, description='N', max=10000000.0, min=100000.0), FloatSlider…"
      ]
     },
     "metadata": {},
     "output_type": "display_data"
    }
   ],
   "source": [
    "figsize=(20,10)\n",
    "facecolor='LightGrey'\n",
    "@interact\n",
    "def plint_sir(N=(1.e+5, 1.e+7), T=5., Ti=5, R0=3.5, t0 = fixed(0), tf = (50, 800), Q = (0., 100.), absolute=True):\n",
    "    \"\"\"interactive SIR\"\"\"\n",
    "    \n",
    "    def get_labels(absolute):\n",
    "        xlabel = 'Tiempo en días'\n",
    "        if absolute:\n",
    "            ylabel = 'Población total'\n",
    "        else:\n",
    "            ylabel = 'Fracción de la población'\n",
    "        return xlabel, ylabel\n",
    "\n",
    "    \n",
    "    Gamma = 1/T\n",
    "    Sigma = 1/Ti\n",
    "    Beta  = Gamma * R0\n",
    "    ts =[(0, ND)]\n",
    "    ms = [1 - Q/100]\n",
    "    M = mitigation_function(t_range, ts, ms)\n",
    "    ret = odeint(seir_deriv, Y0, t_range, args=(M, Beta, Gamma, Sigma))\n",
    "    S, E, I = ret.T\n",
    "    R       = 1 - S - E - I\n",
    "    sir     = SEIR(N = N, S=S, I=I, E=E, R=R,\n",
    "                     beta=Beta, R0=R0, gamma=Gamma, sigma = Sigma, t= t_range)\n",
    "\n",
    "    if absolute:\n",
    "        S = sir.S * sir.N\n",
    "        I = sir.I * sir.N\n",
    "        E = sir.E * sir.N\n",
    "        R = sir.R * sir.N\n",
    "        Y = 1.1 * sir.N\n",
    "    else:\n",
    "        S = sir.S\n",
    "        I = sir.I\n",
    "        E = sir.E\n",
    "        R = sir.R\n",
    "        Y = 1.1\n",
    "    \n",
    "    fig = plt.figure(figsize=figsize)\n",
    "    ax = fig.add_subplot(1,2,1, axisbelow=True)\n",
    "\n",
    "    ax.plot(sir.t, S, 'b', alpha=0.5, lw=3, label='Susceptible')\n",
    "    ax.plot(sir.t, R, 'r', alpha=0.5, lw=3, label='Recuperados')\n",
    "    xlabel, ylabel = get_labels(absolute)\n",
    "    set_pretty_ax(ax, facecolor, xlabel, ylabel, t0, tf, Y)\n",
    "\n",
    "    ax = fig.add_subplot(1,2,2, axisbelow=True)\n",
    "    ax.plot(sir.t, E, 'b', alpha=0.5, lw=3, label='Expuestos')\n",
    "    ax.plot(sir.t, I, 'r', alpha=0.5, lw=3, label='Infectados')\n",
    "    xlabel, ylabel = get_labels(absolute)\n",
    "\n",
    "    if absolute:\n",
    "        Y = 0.20 * sir.N\n",
    "    else:\n",
    "        Y = 0.20\n",
    "    set_pretty_ax(ax, facecolor, xlabel, ylabel, t0, tf, Y)\n",
    "\n",
    "    title=f\"R0 = {R0}, T = {T}, Ti ={Ti}\"\n",
    "    plt.title(title)\n",
    "    plt.show()\n",
    "\n"
   ]
  },
  {
   "cell_type": "code",
   "execution_count": null,
   "metadata": {},
   "outputs": [],
   "source": []
  }
 ],
 "metadata": {
  "kernelspec": {
   "display_name": "Python 3",
   "language": "python",
   "name": "python3"
  },
  "language_info": {
   "codemirror_mode": {
    "name": "ipython",
    "version": 3
   },
   "file_extension": ".py",
   "mimetype": "text/x-python",
   "name": "python",
   "nbconvert_exporter": "python",
   "pygments_lexer": "ipython3",
   "version": "3.7.6"
  }
 },
 "nbformat": 4,
 "nbformat_minor": 4
}
