{
 "cells": [
  {
   "cell_type": "markdown",
   "metadata": {},
   "source": [
    "# SIR"
   ]
  },
  {
   "cell_type": "code",
   "execution_count": 2,
   "metadata": {},
   "outputs": [
    {
     "name": "stdout",
     "output_type": "stream",
     "text": [
      "The autoreload extension is already loaded. To reload it, use:\n",
      "  %reload_ext autoreload\n"
     ]
    }
   ],
   "source": [
    "%matplotlib inline\n",
    "%load_ext autoreload\n",
    "%autoreload 2\n",
    "import matplotlib.pyplot as plt\n",
    "from matplotlib.pyplot import imshow\n",
    "plt.rcParams[\"figure.figsize\"] = 10, 8\n",
    "plt.rcParams[\"font.size\"     ] = 14"
   ]
  },
  {
   "cell_type": "code",
   "execution_count": 3,
   "metadata": {},
   "outputs": [
    {
     "name": "stdout",
     "output_type": "stream",
     "text": [
      "Last updated on  Fri Apr  3 17:27:59 2020\n"
     ]
    }
   ],
   "source": [
    "import os\n",
    "import sys\n",
    "import glob\n",
    "import time\n",
    "import warnings\n",
    "import datetime \n",
    "print(\"Last updated on \", time.asctime())"
   ]
  },
  {
   "cell_type": "code",
   "execution_count": 4,
   "metadata": {},
   "outputs": [],
   "source": [
    "import numpy as np\n",
    "import pandas as pd\n",
    "import matplotlib"
   ]
  },
  {
   "cell_type": "code",
   "execution_count": 5,
   "metadata": {},
   "outputs": [],
   "source": [
    "fontsize=20\n",
    "font = {'family': 'serif',\n",
    "        'color':  'black',\n",
    "        'weight': 'bold',\n",
    "        'size': fontsize,\n",
    "        }\n",
    "\n",
    "plt.rcParams[\"font.size\"     ] = fontsize\n"
   ]
  },
  {
   "cell_type": "code",
   "execution_count": 6,
   "metadata": {},
   "outputs": [],
   "source": [
    "from scipy.integrate import odeint\n",
    "import scipy.integrate as spi\n",
    "from scipy.interpolate import interp1d\n"
   ]
  },
  {
   "cell_type": "code",
   "execution_count": 7,
   "metadata": {},
   "outputs": [],
   "source": [
    "from dataclasses import dataclass, field"
   ]
  },
  {
   "cell_type": "code",
   "execution_count": 8,
   "metadata": {},
   "outputs": [],
   "source": [
    "from c19.types import SIR, SEIR"
   ]
  },
  {
   "cell_type": "code",
   "execution_count": 9,
   "metadata": {},
   "outputs": [],
   "source": [
    "import c19.basic_models as cbm\n",
    "import c19.core_functions as cf\n",
    "import c19.plotting as cplt\n",
    "import c19.utils as ut"
   ]
  },
  {
   "cell_type": "code",
   "execution_count": 10,
   "metadata": {},
   "outputs": [],
   "source": [
    "from ipywidgets import interact, interactive, fixed, interact_manual\n",
    "import ipywidgets as widgets"
   ]
  },
  {
   "cell_type": "code",
   "execution_count": null,
   "metadata": {},
   "outputs": [],
   "source": []
  },
  {
   "cell_type": "markdown",
   "metadata": {},
   "source": [
    "# The SIR model\n",
    "\n",
    "- A simple mathematical description of the spread of a disease in a population is the so-called SIR model, which divides the (fixed) population of N individuals into three \"compartments\" which may vary as a function of time, t:\n",
    "\n",
    "- $S(t)$ are those susceptible but not yet infected with the disease;\n",
    "- $I(t)$ is the number of infectious individuals;\n",
    "- $R(t)$ are those individuals who have recovered from the disease and now have immunity to it.\n",
    "\n",
    "-The SIR model describes the change in the population of each of these compartments in terms of two parameters, $\\beta$ and $\\gamma$. \n",
    "β describes the effective contact rate of the disease: an infected individual comes into contact with βN other individuals per unit time (of which the fraction that are susceptible to contracting the disease is S/N). γ is the mean recovery rate: that is, 1/γ\n",
    "is the mean period of time during which an infected individual can pass it on.\n",
    "\n",
    "-The differential equations describing this model were first derived by Kermack and McKendrick [Proc. R. Soc. A, 115, 772 (1927)]:\n",
    "\n",
    "$$\n",
    "\\frac{dS}{dt} = - \\frac{\\beta S I}{N} \\\\\n",
    "\\frac{dI}{dt} = \\frac{\\beta S I}{N} - \\gamma I \\\\\n",
    "\\frac{dR}{dt} = \\gamma R\n",
    "$$\n",
    "\n",
    "If we express I, S and R in terms of relative fractions (with respect to N) the equations are: \n",
    "\n",
    "$$\n",
    "\\frac{dS}{dt} = - \\beta S I \\\\\n",
    "\\frac{dI}{dt} = \\beta S I - \\gamma I \\\\\n",
    "\\frac{dR}{dt} = \\gamma R\n",
    "$$\n",
    "\n",
    "In the interactive tool, the user can play with two parameters:\n",
    "\n",
    "- $R_0$, which is defined as the mean propagation rate of the disease. It turns out that $R_0 = \\frac{\\beta}{\\gamma}$. $R_0$ is readily understood as the mean number of persons that can contract the disease on encounter with an infected person.\n",
    "\n",
    "- $ T =\\frac{1}{\\gamma}$ which is the time that an individual can infect others. After that period the individual \"recovers\". \n",
    "\n",
    "- Notice that the SIR model does not distinguish between people who truly recovers and people who dies. Both of them count as \"recovered\". Also, notice that the real time that an ill person may take to truly recover (or die) may be much longer (tipically 2-3 weeks), but the person stops being infectious after $T$.\n",
    "\n",
    "- Experiment changing the value of $R_0$ and T. As $R_0$ becomes smaller we \"flatten the curve\". Notice that the peak of the infection is lower but also it arrives later. Same thing occurs if you make T longer.\n",
    "\n",
    "- In practice, the social distancing measures reduce $R_0$ from its \"intrinsic value\" (if nothing is done) to lower values. As $R_0$ becomes smaller the peak of the curve arrives later not sooner (as the naive expectation would have). But if $R_0$ drops below one, the epidemy stops. It is thus possible to abort the epidemy if one manages to reduce $R_0$ sufficiently. However, if the measures are relaxed $R_0$ may grow again towards its intrinsic value and the epidemics springs again. \n",
    "\n"
   ]
  },
  {
   "cell_type": "markdown",
   "metadata": {},
   "source": [
    "## Example\n",
    "\n",
    "1. N = 47 M, Spain population. \n",
    "\n",
    "2. Take COVID deault parameters as: R0 =3.5, T = 5 days "
   ]
  },
  {
   "cell_type": "code",
   "execution_count": 17,
   "metadata": {},
   "outputs": [],
   "source": [
    "N                = 4.7e+7\n",
    "ND               = 200\n",
    "TS               = 1.0\n",
    "t_start          = 0.0 \n",
    "t_end            = ND \n",
    "t_inc            = TS\n",
    "t_range          = np.arange(t_start, t_end+t_inc, t_inc)\n",
    "RX, Gamma        = 3.5, 1./5 \n",
    "Beta             = Gamma * RX\n",
    "I0               = 1E-5\n",
    "S0               = 1 - I0\n",
    "R0               = 0\n",
    "Y0               = (S0, I0, R0)\n"
   ]
  },
  {
   "cell_type": "code",
   "execution_count": 18,
   "metadata": {},
   "outputs": [],
   "source": [
    "sir = cbm.compute_sir(N, Y0, RX, Gamma, t_range, ts = [(0, ND)], ms=[1.0]) "
   ]
  },
  {
   "cell_type": "code",
   "execution_count": 19,
   "metadata": {},
   "outputs": [
    {
     "data": {
      "image/png": "[encoded data removed]",
      "text/plain": [
       "<Figure size 720x720 with 1 Axes>"
      ]
     },
     "metadata": {
      "needs_background": "light"
     },
     "output_type": "display_data"
    }
   ],
   "source": [
    "cplt.plot_sir(sir, f\"R0 = {RX}, T = {1/Gamma} days\", absolute=True,\n",
    "             tmin = 0, tmax = 100, figsize=(10,10))"
   ]
  },
  {
   "cell_type": "markdown",
   "metadata": {},
   "source": [
    "# Interactive example"
   ]
  },
  {
   "cell_type": "code",
   "execution_count": 35,
   "metadata": {},
   "outputs": [],
   "source": [
    "def sir_deriv(y, t, M, beta, gamma):\n",
    "    \"\"\"Prepares the SIR system of equations\"\"\"\n",
    "    S, I, R = y\n",
    "    dSdt = -beta * M(t) * S * I\n",
    "    dIdt = beta * M(t) * S * I - gamma * I\n",
    "    dRdt = gamma * I\n",
    "    return dSdt, dIdt, dRdt\n"
   ]
  },
  {
   "cell_type": "code",
   "execution_count": 36,
   "metadata": {},
   "outputs": [],
   "source": [
    "def mitigation_function(t, ts = [(0, 400)], ms=[1]):\n",
    "    \"\"\"Defines a mitigation function as follows:\n",
    "    1) the time of the infection, t, is divided in tranches specified by ts. Thus, for example,\n",
    "    ts =[(0,20), (20,60), (60,100)] would divide a time vector of 100 days in 3 tranches,\n",
    "    the first one\n",
    "    from day 0 to day 20 and so on.\n",
    "    2) ms corresponds to the mitigation factor in each tranch. Thus, [(1, 0.5, 0.8)] in the\n",
    "    example would\n",
    "    mean that the first tranch no mitigation is applied (R0 * 1), and for second and third\n",
    "    tranches the\n",
    "    mitigation would be (R0 * 0.5) and (R0 * 0.8)\n",
    "    \"\"\"\n",
    "    def mitigation(t, ts, ms):\n",
    "        lt = len(t)\n",
    "        lm = len(ms)\n",
    "        x = int(lt /lm)\n",
    "        c = np.ones(lt)\n",
    "        for i, tsi in enumerate(ts):\n",
    "            c[tsi[0]:tsi[1]] = ms[i]\n",
    "        c[-1] = ms[-1]\n",
    "        return c\n",
    "\n",
    "    C = mitigation(t, ts, ms)\n",
    "    M = interp1d(t, C, bounds_error=False, fill_value=\"extrapolate\")\n",
    "    return M\n"
   ]
  },
  {
   "cell_type": "code",
   "execution_count": 37,
   "metadata": {},
   "outputs": [],
   "source": [
    "def set_pretty_ax(ax, facecolor, xlabel, ylabel, xmin, xmax, ymax):\n",
    "    ax.set_facecolor(facecolor)\n",
    "    ax.set_xlabel(xlabel)\n",
    "    ax.set_ylabel(ylabel)\n",
    "    ax.set_ylim(0,ymax)\n",
    "    ax.set_xlim(xmin,xmax)\n",
    "    ax.yaxis.set_tick_params(length=0)\n",
    "    ax.xaxis.set_tick_params(length=0)\n",
    "    ax.grid(b=True, which='major', c='w', lw=2, ls='-')\n",
    "    legend = ax.legend()\n",
    "    legend.get_frame().set_alpha(0.5)\n",
    "    for spine in ('top', 'right', 'bottom', 'left'):\n",
    "        ax.spines[spine].set_visible(False)\n"
   ]
  },
  {
   "cell_type": "code",
   "execution_count": 43,
   "metadata": {},
   "outputs": [
    {
     "data": {
      "application/vnd.jupyter.widget-view+json": {
       "model_id": "cd1c67b36b774a64b70e769e8cf4d5eb",
       "version_major": 2,
       "version_minor": 0
      },
      "text/plain": [
       "interactive(children=(FloatSlider(value=5.0, description='T', max=15.0, min=-5.0), FloatSlider(value=3.5, desc…"
      ]
     },
     "metadata": {},
     "output_type": "display_data"
    }
   ],
   "source": [
    "figsize=(10,10)\n",
    "facecolor='LightGrey'\n",
    "@interact\n",
    "def plint_sir(T=5., R0=3.5, t0 = 0, tf = 200, m = 1.0, absolute=True):\n",
    "    \"\"\"interactive SIR\"\"\"\n",
    "    \n",
    "    Gamma = 1/T\n",
    "    Beta  = Gamma * R0\n",
    "    ts =[(t0, tf)]\n",
    "    ms = [m]\n",
    "    M = mitigation_function(t_range, ts, ms)\n",
    "    ret = odeint(sir_deriv, Y0, t_range, args=(M, Beta, Gamma))\n",
    "    S, I, R = ret.T\n",
    "\n",
    "    sir = SIR(N = N, S=S, I=I,  R=R,\n",
    "              beta=Beta, R0=R0, gamma=Gamma,  t= t_range)\n",
    "    \n",
    "    fig = plt.figure(figsize=figsize)\n",
    "    ax = fig.add_subplot(111, axisbelow=True)\n",
    "    ax.set_facecolor(facecolor)\n",
    "\n",
    "    if absolute:\n",
    "        S = sir.S * sir.N\n",
    "        I = sir.I * sir.N\n",
    "        R = sir.R * sir.N\n",
    "        Y = 1.1 * sir.N\n",
    "    else:\n",
    "        S = sir.S\n",
    "        I = sir.I\n",
    "        R = sir.R\n",
    "        Y = 1.1\n",
    "\n",
    "    ax.plot(sir.t, S, 'b', alpha=0.5, lw=3, label='Susceptible')\n",
    "    ax.plot(sir.t, I, 'r', alpha=0.5, lw=3, label='Infected')\n",
    "    ax.plot(sir.t, R, 'g', alpha=0.5, lw=3, label='Recovered')\n",
    "    xlabel = 'Time /days'\n",
    "    if absolute:\n",
    "        ylabel = 'Total population'\n",
    "    else:\n",
    "        ylabel = 'Fraction of population'\n",
    "\n",
    "    set_pretty_ax(ax, facecolor, xlabel, ylabel, t0, tf, Y)\n",
    "    title=f\"R0 = {R0}, T = {T}\"\n",
    "    plt.title(title)\n",
    "    plt.show()\n",
    "\n",
    "\n",
    "    #return sir\n"
   ]
  },
  {
   "cell_type": "code",
   "execution_count": null,
   "metadata": {},
   "outputs": [],
   "source": []
  }
 ],
 "metadata": {
  "kernelspec": {
   "display_name": "Python 3",
   "language": "python",
   "name": "python3"
  },
  "language_info": {
   "codemirror_mode": {
    "name": "ipython",
    "version": 3
   },
   "file_extension": ".py",
   "mimetype": "text/x-python",
   "name": "python",
   "nbconvert_exporter": "python",
   "pygments_lexer": "ipython3",
   "version": "3.7.6"
  }
 },
 "nbformat": 4,
 "nbformat_minor": 4
}
