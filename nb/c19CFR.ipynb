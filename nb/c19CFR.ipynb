{
 "cells": [
  {
   "cell_type": "code",
   "execution_count": 37,
   "metadata": {},
   "outputs": [
    {
     "name": "stdout",
     "output_type": "stream",
     "text": [
      "The autoreload extension is already loaded. To reload it, use:\n",
      "  %reload_ext autoreload\n"
     ]
    }
   ],
   "source": [
    "%matplotlib inline\n",
    "%load_ext autoreload\n",
    "%autoreload 2\n",
    "import matplotlib.pyplot as plt\n",
    "import matplotlib.dates as mdates\n",
    "plt.rcParams[\"figure.figsize\"] = 10, 8\n",
    "plt.rcParams[\"font.size\"     ] = 14"
   ]
  },
  {
   "cell_type": "code",
   "execution_count": 38,
   "metadata": {},
   "outputs": [
    {
     "name": "stdout",
     "output_type": "stream",
     "text": [
      "Last updated on  Fri Mar 27 17:44:45 2020\n"
     ]
    }
   ],
   "source": [
    "import os\n",
    "import sys\n",
    "import glob\n",
    "import time\n",
    "import warnings\n",
    "from datetime import datetime\n",
    "print(\"Last updated on \", time.asctime())"
   ]
  },
  {
   "cell_type": "code",
   "execution_count": 39,
   "metadata": {},
   "outputs": [],
   "source": [
    "import numpy as np\n",
    "import pandas as pd\n",
    "import matplotlib"
   ]
  },
  {
   "cell_type": "code",
   "execution_count": 40,
   "metadata": {},
   "outputs": [],
   "source": [
    "fontsize=20\n",
    "font = {'family': 'serif',\n",
    "        'color':  'black',\n",
    "        'weight': 'bold',\n",
    "        'size': fontsize,\n",
    "        }\n",
    "\n",
    "plt.rcParams[\"font.size\"     ] = fontsize\n"
   ]
  },
  {
   "cell_type": "code",
   "execution_count": 41,
   "metadata": {},
   "outputs": [],
   "source": [
    "from scipy.integrate import odeint\n",
    "import scipy.integrate as spi\n",
    "from scipy.interpolate import interp1d\n",
    "from dataclasses import dataclass, field"
   ]
  },
  {
   "cell_type": "code",
   "execution_count": 44,
   "metadata": {},
   "outputs": [],
   "source": [
    "from scipy.stats import lognorm"
   ]
  },
  {
   "cell_type": "code",
   "execution_count": 42,
   "metadata": {},
   "outputs": [],
   "source": [
    "import invisible_cities.core .fit_functions  as     fitf"
   ]
  },
  {
   "cell_type": "markdown",
   "metadata": {},
   "source": [
    "#### Theoretical background\n",
    "\n",
    "- the case fatality ratio (CFR) is the conditional probability of death given infection\n",
    "- The CFR in general is vaguely defined as the ratio of deaths to cases, whose denominator should ideally be the total number of infections, but is frequently taken to be only the diagnosed cases due to the impossibility of counting all infected individuals. Because in the early phase of an outbreak information is often limited to confirmed cases, we concentrate on confirmed cases only, and refer to the CFR as the confirmed CFR (cCFR) for clarity.\n",
    "- A much-used crude estimate of the cCFR, i.e. the ratio of the cumulative number of deaths to cases at calendar time t, tends to yield a biased (and mostly underestimated) cCFR due to the time-delay from onset to death.\n",
    "- The cCFR is interpreted as the conditional probability of death given confirmed diagnosis.\n",
    "\n",
    "- In the following, the notation used to represent the three different statistical measurements of cCFR is: \n",
    "    - (i) bt, which is a crude, biased estimate of the cCFR calculated at time t; \n",
    "    - (ii) $\\pi$, which is an unbiased cCFR to be estimated in the present study, and is the unknown parameter that governed the outbreaks; and \n",
    "    - (iii) pt, a random variable, which yields an estimator of p (see below) and is regarded as the realized value in one particular outbreak. \n",
    "    - (iv) ct (i.e. the number of new confirmed cases on day t)\n",
    "\n",
    "- First, bt, a crude and biased estimate of cCFR, calculated at time t, is given by the ratio of the cumulative number of deaths Dt to the cumulative number of confirmed cases Ct:\n",
    "\n",
    "$$ b_t = \\frac{D_t}{C_t} $$\n",
    "\n",
    "- Ct is the cumulative number of confirmed cases up to time t:\n",
    "\n",
    "$$ C_t = \\sum_{t=0}^t c_i $$\n",
    "\n",
    "- Dt is the cumulative number of deaths up to time t:\n",
    "\n",
    "$$ D_t = p_t \\sum_{i=0}^t \\sum_{j=0}^\\infty c_{ij} f_j$$\n",
    "\n",
    "- pt is the realized proportion of confirmed cases to die from the infection.\n",
    "- fs is the conditional probability density function of the time from onset to death, given death.\n",
    "\n",
    "Then\n",
    "\n",
    "$$ p_t = \\frac{b_t}{u_t} $$\n",
    "\n",
    "And:\n",
    "\n",
    "$$ u_t = \\frac{\\sum_{i=0}^t \\sum_{j=0}^\\infty c_{ij} f_j}{C_i} $$\n",
    "\n",
    "- The cumulative number of cases Ct is regarded as the total population size. Of these, only a proportion ut has been at risk for dying by time t, whereas the outcome for the remaining proportion 1 - ut is still unobserved. Among the $u_t \\cdot C_t$ cases that have been at risk, Dt have died and \n",
    "$u_t C_t – D_t$ have survived the infection. This is a sample from a binomial distribution with sample size utCt and probability $\\pi$:\n",
    "\n",
    "$$ Pr (X= Dt) = \\binom{u_t C_t}{D_t} \\pi^{D_t} (1 - \\pi)^{u_tC_t - D_t}$$\n",
    "\n",
    "And thus we can obtain a Likelihood function to obtain the maximum likelihood estimate of pt.\n",
    "\n",
    "$$ L(p_t; C_t, D_t, u_t) = \\binom{u_t C_t}{D_t} p_t^{D_t} (1 - p_t)^{u_tC_t - D_t}$$\n",
    "\n",
    "#### Approximations for the exponential growth phase\n",
    "\n",
    "- Whereas we discussed incidence in discrete time in the main text, here we use continuous time arguments for mathematical convenience; incidence and factor of underestimation at time t are denoted by c(t) and u(t), respectively. Although the most precise estimates of the unbiased cCFR are obtained by calculation of u(t) by use of equation (6) (so that pt can be estimated), we have also derived a simple approximation for u(t) in the early (exponential) growth phase of an epidemic. If we observe an exponential increase of onsets during the early stage of an epidemic with growth rate r, the expectation of incidence E(c(t)) can be written as\n",
    "\n",
    "$$ E(c(t)) = c_0 \\exp{(r t)} $$\n",
    "\n",
    "Then\n",
    "\n",
    "$$ u = \\frac{\\int_0^t \\exp{(r \\tau)} \\int_0^\\infty \\exp{(-rs)} f(s) ds d\\tau}{\\int_0^t \\exp{(r \\tau)} d \\tau}$$\n",
    "\n",
    "- when f(s) is the density of an exponential distribution with mean T, we have \n",
    "\n",
    "$$u = M(-r) = \\frac{1}{1 + r T} $$ \n"
   ]
  },
  {
   "cell_type": "markdown",
   "metadata": {},
   "source": [
    "# Lognormal distribution\n",
    "\n",
    "- Definition. If X has a lognormal distribution, then Z=log(X) has a normal distribution. (Here, as usually, log is taken to be the natural logarithm.)\n",
    "\n",
    "- Parameters. The normal variable Z is best characterized by mean $\\mu$ and variance $\\sigma^2$ or standard deviation $\\sigma$.\n",
    "- If you transform to the lognormal X by X=exp(Z), then\n",
    "    - $\\mu^* =\\exp(\\mu)$ is the median and\n",
    "    - $\\sigma^* =\\exp(\\sigma)$ is what we call the multiplicative standard deviation. \n",
    "\n",
    "\n",
    "- The mean (expectation) of X is\n",
    " $$ E(X) = \\exp( \\mu + \\sigma^2/2 ) $$\n",
    "- The variance,\n",
    " $$ var(X) = \\exp( \\sigma^2 + 2 \\mu) ( \\exp(\\sigma^2)-1 )$$\n",
    "- The median,\n",
    "$$ med(X) = \\exp(\\mu) = \\mu^* $$\n",
    "- The ratio mean/median  is:\n",
    "$$ mean/median = \\exp(\\sigma^2/2)$$\n",
    "- Thus:\n",
    "$$ \\sigma = \\sqrt{2 * (log(mean) - log(median))}$$"
   ]
  },
  {
   "cell_type": "markdown",
   "metadata": {},
   "source": [
    "# "
   ]
  },
  {
   "cell_type": "markdown",
   "metadata": {},
   "source": [
    "## Fit data"
   ]
  },
  {
   "cell_type": "code",
   "execution_count": 77,
   "metadata": {},
   "outputs": [
    {
     "name": "stdout",
     "output_type": "stream",
     "text": [
      " zmeanHDT =13, zsdHDT = 12.7, zmedianHDT = 9.1, muHDT = 2.21, sigmaHDT=0.84\n"
     ]
    }
   ],
   "source": [
    "zmeanHDT          = 13           # mean delay of log-normal fit\n",
    "zsdHDT            = 12.7         # SD\n",
    "zmedianHDT        = 9.1\n",
    "muHDT             = np.log(zmedianHDT)\n",
    "sigmaHDT          = np.sqrt(2*(np.log(zmeanHDT) - np.log(zmedianHDT)))\n",
    "cCFRBaseline      =  1.38\n",
    "cCFREstimateRange = (1.23, 1.53)\n",
    "print(f' zmeanHDT ={zmeanHDT}, zsdHDT = {zsdHDT}, zmedianHDT = {zmedianHDT}, muHDT = {muHDT:.2f}, sigmaHDT={sigmaHDT:.2f}')"
   ]
  },
  {
   "cell_type": "markdown",
   "metadata": {},
   "source": [
    "#  Adjusting for outcome delay in CFR estimates\n",
    "\n",
    "During an outbreak, the naive CFR (nCFR), i.e. the ratio of reported deaths date to reported cases to date, will underestimate the true CFR because the outcome (recovery or death) is not known for all cases. We can therefore estimate the true denominator for the CFR (i.e. the number of cases with known outcomes) by accounting for the delay from confirmation-to-death.\n",
    "\n",
    "We assumed the delay from confirmation-to-death followed the same distribution as estimated hospitalisation-to-death, based on data from the COVID-19 outbreak in Wuhan, China, between the 17th December 2019 and the 22th January 2020, accounting right-censoring in the data as a result of as-yet-unknown disease outcomes (Figure 1, panels A and B in [Linton NM, Kobayashi T, Yang Y et al. Incubation period and other epidemiological characteristics of 2019 novel coronavirus infections with right truncation: A statistical analysis of publicly available case data. Journal of Clinical Medicine 2020;9:538.]). The distribution used is a Lognormal fit, has a mean delay of 13 days and a standard deviation of 12.7 days.\n",
    "\n",
    "To correct the CFR, we use the case and death incidence data to estimate the number of cases with known outcomes:\n",
    "\n",
    "$$\n",
    "u_t = \\frac{\\sum_{i=0}^t \\sum_{i=0}^\\infty c_{i−j}f_j}{\\sum_{i=0}^t c_i} \n",
    "$$\n",
    "\n",
    "where $u_t$\n",
    "represents the underestimation of the known outcomes and is used to scale the value of the cumulative number of cases in the denominator in the calculation of the cCFR, $c_t$ is the daily case incidence at time, t and $f_t$ is the proportion of cases with delay of t between confirmation and death."
   ]
  },
  {
   "cell_type": "code",
   "execution_count": 93,
   "metadata": {},
   "outputs": [],
   "source": [
    "def lognorm_pdf(x, mu, sigma):\n",
    "    \"\"\"lognorm distribution\"\"\"\n",
    "    return lognorm.pdf(x, sigma, scale=np.exp(mu))\n",
    "\n",
    "def hdt(x, zmeanHDT = 13, zmedianHDT = 9.1):\n",
    "    \"\"\"Hospitalization to death truncated\"\"\"\n",
    "    \n",
    "    muHDT    = np.log(zmedianHDT)\n",
    "    sigmaHDT = np.sqrt(2*(np.log(zmeanHDT) - muHDT))\n",
    "    return lognorm.pdf(x, sigmaHDT, scale=zmedianHDT)\n"
   ]
  },
  {
   "cell_type": "code",
   "execution_count": 79,
   "metadata": {},
   "outputs": [],
   "source": [
    "def plot_lognorm_pdf(mu, sigmas, figsize=(8,8)):\n",
    "\n",
    "    fig = plt.figure(figsize=figsize)\n",
    "    ax=plt.subplot(111)\n",
    "    x=np.linspace(0,5,200)\n",
    "    for sigma in sigmas:\n",
    "        y = lognorm_pdf(x, mu, sigma)\n",
    "        ax.plot(x, y, lw=3, alpha=0.6, label=f' sigma = {sigma}')\n",
    "    plt.title(f'lognorm, mu={mu}')\n",
    "    plt.legend()\n",
    "    plt.show()"
   ]
  },
  {
   "cell_type": "code",
   "execution_count": 80,
   "metadata": {},
   "outputs": [
    {
     "data": {
      "image/png": "[encoded data removed]",
      "text/plain": [
       "<Figure size 576x576 with 1 Axes>"
      ]
     },
     "metadata": {
      "needs_background": "light"
     },
     "output_type": "display_data"
    }
   ],
   "source": [
    "plot_lognorm_pdf(mu=0, sigmas=(0.25, 0.5, 1.), figsize=(8,8))"
   ]
  },
  {
   "cell_type": "code",
   "execution_count": 98,
   "metadata": {},
   "outputs": [],
   "source": [
    "def plot_hospitalisation_to_dth(zmeanHDT = 13, zmedianHDT = 9.1, figsize=(8,8)):\n",
    "\n",
    "    fig = plt.figure(figsize=figsize)\n",
    "    ax=plt.subplot(111)\n",
    "    x=np.linspace(0,40,200)\n",
    "    y = hdt(x, zmeanHDT, zmedianHDT)\n",
    "    ax.plot(x, y, lw=3, alpha=0.6)\n",
    "    plt.title(f' hospitalization to dth, mean={np.argmax(y)/5:.2f}')\n",
    "    plt.show()"
   ]
  },
  {
   "cell_type": "code",
   "execution_count": 99,
   "metadata": {},
   "outputs": [
    {
     "data": {
      "image/png": "[encoded data removed]",
      "text/plain": [
       "<Figure size 576x576 with 1 Axes>"
      ]
     },
     "metadata": {
      "needs_background": "light"
     },
     "output_type": "display_data"
    }
   ],
   "source": [
    "plot_hospitalisation_to_dth()"
   ]
  },
  {
   "cell_type": "code",
   "execution_count": 220,
   "metadata": {},
   "outputs": [],
   "source": [
    "def scale_cfr(df, hdt):\n",
    "    \"\"\"Computes mut, scaling the CFR\"\"\"\n",
    "    case_incidence  = df['cases'].values\n",
    "    \n",
    "    cumulative_known_t = 0  # cumulative cases with known outcome at time tt\n",
    "    # Sum over cases up to time t\n",
    "    for i in np.arange(len(case_incidence)):\n",
    "        known_i = 0 # number of cases with known outcome at time i\n",
    "        for j in np.arange(i):\n",
    "            known_j =  case_incidence[i - j]*hdt(j)\n",
    "            known_i += known_j\n",
    "        cumulative_known_t += known_i\n",
    "    \n",
    "    print(cumulative_known_t)\n",
    "    return cumulative_known_t\n",
    "\n",
    "def cCFR(df, ut):\n",
    "    bt = df['deaths'].sum() / df['cases'].sum()  #naive CFR\n",
    "    pt = df['deaths'].sum() /ut\n",
    "    return bt, pt"
   ]
  },
  {
   "cell_type": "code",
   "execution_count": 221,
   "metadata": {},
   "outputs": [
    {
     "name": "stdout",
     "output_type": "stream",
     "text": [
      "41451.69183684686\n",
      "0.07277743169885201 0.0986449483435859\n"
     ]
    }
   ],
   "source": [
    "bt, pt = cCFR(dfs, scale_cfr(dfs, hdt))\n",
    "print(bt,pt)"
   ]
  },
  {
   "cell_type": "code",
   "execution_count": 224,
   "metadata": {},
   "outputs": [
    {
     "data": {
      "text/plain": [
       "0.13989565843690063"
      ]
     },
     "execution_count": 224,
     "metadata": {},
     "output_type": "execute_result"
    }
   ],
   "source": [
    "underreporting_estimate = cCFRBaseline / (pt*100)\n",
    "underreporting_estimate"
   ]
  },
  {
   "cell_type": "code",
   "execution_count": null,
   "metadata": {},
   "outputs": [],
   "source": []
  },
  {
   "cell_type": "code",
   "execution_count": 141,
   "metadata": {},
   "outputs": [],
   "source": [
    "def select_country(df, country='ES', thr=2):\n",
    "    dfs = df.loc[df['geoId'] == country]\n",
    "    return dfs.loc[df['cases']>thr]        "
   ]
  },
  {
   "cell_type": "code",
   "execution_count": 157,
   "metadata": {},
   "outputs": [
    {
     "name": "stdout",
     "output_type": "stream",
     "text": [
      "/Users/jjgomezcadenas/Projects/Development/C19/data/COVID-19-geographic-disbtribution-worldwide-27-3.xlsx\n"
     ]
    },
    {
     "data": {
      "text/html": [
       "<div>\n",
       "<style scoped>\n",
       "    .dataframe tbody tr th:only-of-type {\n",
       "        vertical-align: middle;\n",
       "    }\n",
       "\n",
       "    .dataframe tbody tr th {\n",
       "        vertical-align: top;\n",
       "    }\n",
       "\n",
       "    .dataframe thead th {\n",
       "        text-align: right;\n",
       "    }\n",
       "</style>\n",
       "<table border=\"1\" class=\"dataframe\">\n",
       "  <thead>\n",
       "    <tr style=\"text-align: right;\">\n",
       "      <th></th>\n",
       "      <th>dateRep</th>\n",
       "      <th>day</th>\n",
       "      <th>month</th>\n",
       "      <th>year</th>\n",
       "      <th>cases</th>\n",
       "      <th>deaths</th>\n",
       "      <th>countriesAndTerritories</th>\n",
       "      <th>geoId</th>\n",
       "      <th>countryterritoryCode</th>\n",
       "      <th>popData2018</th>\n",
       "    </tr>\n",
       "  </thead>\n",
       "  <tbody>\n",
       "    <tr>\n",
       "      <th>0</th>\n",
       "      <td>2020-03-27</td>\n",
       "      <td>27</td>\n",
       "      <td>3</td>\n",
       "      <td>2020</td>\n",
       "      <td>0</td>\n",
       "      <td>0</td>\n",
       "      <td>Afghanistan</td>\n",
       "      <td>AF</td>\n",
       "      <td>AFG</td>\n",
       "      <td>37172386.0</td>\n",
       "    </tr>\n",
       "    <tr>\n",
       "      <th>1</th>\n",
       "      <td>2020-03-26</td>\n",
       "      <td>26</td>\n",
       "      <td>3</td>\n",
       "      <td>2020</td>\n",
       "      <td>33</td>\n",
       "      <td>0</td>\n",
       "      <td>Afghanistan</td>\n",
       "      <td>AF</td>\n",
       "      <td>AFG</td>\n",
       "      <td>37172386.0</td>\n",
       "    </tr>\n",
       "    <tr>\n",
       "      <th>2</th>\n",
       "      <td>2020-03-25</td>\n",
       "      <td>25</td>\n",
       "      <td>3</td>\n",
       "      <td>2020</td>\n",
       "      <td>2</td>\n",
       "      <td>0</td>\n",
       "      <td>Afghanistan</td>\n",
       "      <td>AF</td>\n",
       "      <td>AFG</td>\n",
       "      <td>37172386.0</td>\n",
       "    </tr>\n",
       "    <tr>\n",
       "      <th>3</th>\n",
       "      <td>2020-03-24</td>\n",
       "      <td>24</td>\n",
       "      <td>3</td>\n",
       "      <td>2020</td>\n",
       "      <td>6</td>\n",
       "      <td>1</td>\n",
       "      <td>Afghanistan</td>\n",
       "      <td>AF</td>\n",
       "      <td>AFG</td>\n",
       "      <td>37172386.0</td>\n",
       "    </tr>\n",
       "    <tr>\n",
       "      <th>4</th>\n",
       "      <td>2020-03-23</td>\n",
       "      <td>23</td>\n",
       "      <td>3</td>\n",
       "      <td>2020</td>\n",
       "      <td>10</td>\n",
       "      <td>0</td>\n",
       "      <td>Afghanistan</td>\n",
       "      <td>AF</td>\n",
       "      <td>AFG</td>\n",
       "      <td>37172386.0</td>\n",
       "    </tr>\n",
       "  </tbody>\n",
       "</table>\n",
       "</div>"
      ],
      "text/plain": [
       "     dateRep  day  month  year  cases  deaths countriesAndTerritories geoId  \\\n",
       "0 2020-03-27   27      3  2020      0       0             Afghanistan    AF   \n",
       "1 2020-03-26   26      3  2020     33       0             Afghanistan    AF   \n",
       "2 2020-03-25   25      3  2020      2       0             Afghanistan    AF   \n",
       "3 2020-03-24   24      3  2020      6       1             Afghanistan    AF   \n",
       "4 2020-03-23   23      3  2020     10       0             Afghanistan    AF   \n",
       "\n",
       "  countryterritoryCode  popData2018  \n",
       "0                  AFG   37172386.0  \n",
       "1                  AFG   37172386.0  \n",
       "2                  AFG   37172386.0  \n",
       "3                  AFG   37172386.0  \n",
       "4                  AFG   37172386.0  "
      ]
     },
     "execution_count": 157,
     "metadata": {},
     "output_type": "execute_result"
    }
   ],
   "source": [
    "path='/Users/jjgomezcadenas/Projects/Development/C19/data'\n",
    "file = os.path.join(path,'COVID-19-geographic-disbtribution-worldwide-27-3.xlsx')\n",
    "print(file)\n",
    "df = pd.read_excel(file) \n",
    "df.head()"
   ]
  },
  {
   "cell_type": "code",
   "execution_count": 142,
   "metadata": {},
   "outputs": [
    {
     "data": {
      "text/html": [
       "<div>\n",
       "<style scoped>\n",
       "    .dataframe tbody tr th:only-of-type {\n",
       "        vertical-align: middle;\n",
       "    }\n",
       "\n",
       "    .dataframe tbody tr th {\n",
       "        vertical-align: top;\n",
       "    }\n",
       "\n",
       "    .dataframe thead th {\n",
       "        text-align: right;\n",
       "    }\n",
       "</style>\n",
       "<table border=\"1\" class=\"dataframe\">\n",
       "  <thead>\n",
       "    <tr style=\"text-align: right;\">\n",
       "      <th></th>\n",
       "      <th>dateRep</th>\n",
       "      <th>day</th>\n",
       "      <th>month</th>\n",
       "      <th>year</th>\n",
       "      <th>cases</th>\n",
       "      <th>deaths</th>\n",
       "      <th>countriesAndTerritories</th>\n",
       "      <th>geoId</th>\n",
       "      <th>countryterritoryCode</th>\n",
       "      <th>popData2018</th>\n",
       "    </tr>\n",
       "  </thead>\n",
       "  <tbody>\n",
       "    <tr>\n",
       "      <th>6086</th>\n",
       "      <td>2020-03-27</td>\n",
       "      <td>27</td>\n",
       "      <td>3</td>\n",
       "      <td>2020</td>\n",
       "      <td>8578</td>\n",
       "      <td>655</td>\n",
       "      <td>Spain</td>\n",
       "      <td>ES</td>\n",
       "      <td>ESP</td>\n",
       "      <td>46723749.0</td>\n",
       "    </tr>\n",
       "    <tr>\n",
       "      <th>6087</th>\n",
       "      <td>2020-03-26</td>\n",
       "      <td>26</td>\n",
       "      <td>3</td>\n",
       "      <td>2020</td>\n",
       "      <td>7937</td>\n",
       "      <td>738</td>\n",
       "      <td>Spain</td>\n",
       "      <td>ES</td>\n",
       "      <td>ESP</td>\n",
       "      <td>46723749.0</td>\n",
       "    </tr>\n",
       "    <tr>\n",
       "      <th>6088</th>\n",
       "      <td>2020-03-25</td>\n",
       "      <td>25</td>\n",
       "      <td>3</td>\n",
       "      <td>2020</td>\n",
       "      <td>6584</td>\n",
       "      <td>514</td>\n",
       "      <td>Spain</td>\n",
       "      <td>ES</td>\n",
       "      <td>ESP</td>\n",
       "      <td>46723749.0</td>\n",
       "    </tr>\n",
       "    <tr>\n",
       "      <th>6089</th>\n",
       "      <td>2020-03-24</td>\n",
       "      <td>24</td>\n",
       "      <td>3</td>\n",
       "      <td>2020</td>\n",
       "      <td>4517</td>\n",
       "      <td>462</td>\n",
       "      <td>Spain</td>\n",
       "      <td>ES</td>\n",
       "      <td>ESP</td>\n",
       "      <td>46723749.0</td>\n",
       "    </tr>\n",
       "    <tr>\n",
       "      <th>6090</th>\n",
       "      <td>2020-03-23</td>\n",
       "      <td>23</td>\n",
       "      <td>3</td>\n",
       "      <td>2020</td>\n",
       "      <td>3646</td>\n",
       "      <td>394</td>\n",
       "      <td>Spain</td>\n",
       "      <td>ES</td>\n",
       "      <td>ESP</td>\n",
       "      <td>46723749.0</td>\n",
       "    </tr>\n",
       "    <tr>\n",
       "      <th>6091</th>\n",
       "      <td>2020-03-22</td>\n",
       "      <td>22</td>\n",
       "      <td>3</td>\n",
       "      <td>2020</td>\n",
       "      <td>4946</td>\n",
       "      <td>324</td>\n",
       "      <td>Spain</td>\n",
       "      <td>ES</td>\n",
       "      <td>ESP</td>\n",
       "      <td>46723749.0</td>\n",
       "    </tr>\n",
       "    <tr>\n",
       "      <th>6092</th>\n",
       "      <td>2020-03-21</td>\n",
       "      <td>21</td>\n",
       "      <td>3</td>\n",
       "      <td>2020</td>\n",
       "      <td>2833</td>\n",
       "      <td>235</td>\n",
       "      <td>Spain</td>\n",
       "      <td>ES</td>\n",
       "      <td>ESP</td>\n",
       "      <td>46723749.0</td>\n",
       "    </tr>\n",
       "    <tr>\n",
       "      <th>6093</th>\n",
       "      <td>2020-03-20</td>\n",
       "      <td>20</td>\n",
       "      <td>3</td>\n",
       "      <td>2020</td>\n",
       "      <td>3431</td>\n",
       "      <td>169</td>\n",
       "      <td>Spain</td>\n",
       "      <td>ES</td>\n",
       "      <td>ESP</td>\n",
       "      <td>46723749.0</td>\n",
       "    </tr>\n",
       "    <tr>\n",
       "      <th>6094</th>\n",
       "      <td>2020-03-19</td>\n",
       "      <td>19</td>\n",
       "      <td>3</td>\n",
       "      <td>2020</td>\n",
       "      <td>2538</td>\n",
       "      <td>107</td>\n",
       "      <td>Spain</td>\n",
       "      <td>ES</td>\n",
       "      <td>ESP</td>\n",
       "      <td>46723749.0</td>\n",
       "    </tr>\n",
       "    <tr>\n",
       "      <th>6095</th>\n",
       "      <td>2020-03-18</td>\n",
       "      <td>18</td>\n",
       "      <td>3</td>\n",
       "      <td>2020</td>\n",
       "      <td>1987</td>\n",
       "      <td>182</td>\n",
       "      <td>Spain</td>\n",
       "      <td>ES</td>\n",
       "      <td>ESP</td>\n",
       "      <td>46723749.0</td>\n",
       "    </tr>\n",
       "    <tr>\n",
       "      <th>6096</th>\n",
       "      <td>2020-03-17</td>\n",
       "      <td>17</td>\n",
       "      <td>3</td>\n",
       "      <td>2020</td>\n",
       "      <td>1438</td>\n",
       "      <td>21</td>\n",
       "      <td>Spain</td>\n",
       "      <td>ES</td>\n",
       "      <td>ESP</td>\n",
       "      <td>46723749.0</td>\n",
       "    </tr>\n",
       "    <tr>\n",
       "      <th>6097</th>\n",
       "      <td>2020-03-16</td>\n",
       "      <td>16</td>\n",
       "      <td>3</td>\n",
       "      <td>2020</td>\n",
       "      <td>2000</td>\n",
       "      <td>152</td>\n",
       "      <td>Spain</td>\n",
       "      <td>ES</td>\n",
       "      <td>ESP</td>\n",
       "      <td>46723749.0</td>\n",
       "    </tr>\n",
       "    <tr>\n",
       "      <th>6098</th>\n",
       "      <td>2020-03-15</td>\n",
       "      <td>15</td>\n",
       "      <td>3</td>\n",
       "      <td>2020</td>\n",
       "      <td>1522</td>\n",
       "      <td>15</td>\n",
       "      <td>Spain</td>\n",
       "      <td>ES</td>\n",
       "      <td>ESP</td>\n",
       "      <td>46723749.0</td>\n",
       "    </tr>\n",
       "    <tr>\n",
       "      <th>6099</th>\n",
       "      <td>2020-03-14</td>\n",
       "      <td>14</td>\n",
       "      <td>3</td>\n",
       "      <td>2020</td>\n",
       "      <td>1227</td>\n",
       "      <td>37</td>\n",
       "      <td>Spain</td>\n",
       "      <td>ES</td>\n",
       "      <td>ESP</td>\n",
       "      <td>46723749.0</td>\n",
       "    </tr>\n",
       "    <tr>\n",
       "      <th>6100</th>\n",
       "      <td>2020-03-13</td>\n",
       "      <td>13</td>\n",
       "      <td>3</td>\n",
       "      <td>2020</td>\n",
       "      <td>864</td>\n",
       "      <td>37</td>\n",
       "      <td>Spain</td>\n",
       "      <td>ES</td>\n",
       "      <td>ESP</td>\n",
       "      <td>46723749.0</td>\n",
       "    </tr>\n",
       "    <tr>\n",
       "      <th>6101</th>\n",
       "      <td>2020-03-12</td>\n",
       "      <td>12</td>\n",
       "      <td>3</td>\n",
       "      <td>2020</td>\n",
       "      <td>501</td>\n",
       "      <td>12</td>\n",
       "      <td>Spain</td>\n",
       "      <td>ES</td>\n",
       "      <td>ESP</td>\n",
       "      <td>46723749.0</td>\n",
       "    </tr>\n",
       "    <tr>\n",
       "      <th>6102</th>\n",
       "      <td>2020-03-11</td>\n",
       "      <td>11</td>\n",
       "      <td>3</td>\n",
       "      <td>2020</td>\n",
       "      <td>435</td>\n",
       "      <td>7</td>\n",
       "      <td>Spain</td>\n",
       "      <td>ES</td>\n",
       "      <td>ESP</td>\n",
       "      <td>46723749.0</td>\n",
       "    </tr>\n",
       "    <tr>\n",
       "      <th>6103</th>\n",
       "      <td>2020-03-10</td>\n",
       "      <td>10</td>\n",
       "      <td>3</td>\n",
       "      <td>2020</td>\n",
       "      <td>615</td>\n",
       "      <td>23</td>\n",
       "      <td>Spain</td>\n",
       "      <td>ES</td>\n",
       "      <td>ESP</td>\n",
       "      <td>46723749.0</td>\n",
       "    </tr>\n",
       "    <tr>\n",
       "      <th>6104</th>\n",
       "      <td>2020-03-09</td>\n",
       "      <td>9</td>\n",
       "      <td>3</td>\n",
       "      <td>2020</td>\n",
       "      <td>159</td>\n",
       "      <td>0</td>\n",
       "      <td>Spain</td>\n",
       "      <td>ES</td>\n",
       "      <td>ESP</td>\n",
       "      <td>46723749.0</td>\n",
       "    </tr>\n",
       "    <tr>\n",
       "      <th>6105</th>\n",
       "      <td>2020-03-08</td>\n",
       "      <td>8</td>\n",
       "      <td>3</td>\n",
       "      <td>2020</td>\n",
       "      <td>56</td>\n",
       "      <td>0</td>\n",
       "      <td>Spain</td>\n",
       "      <td>ES</td>\n",
       "      <td>ESP</td>\n",
       "      <td>46723749.0</td>\n",
       "    </tr>\n",
       "    <tr>\n",
       "      <th>6106</th>\n",
       "      <td>2020-03-07</td>\n",
       "      <td>7</td>\n",
       "      <td>3</td>\n",
       "      <td>2020</td>\n",
       "      <td>113</td>\n",
       "      <td>2</td>\n",
       "      <td>Spain</td>\n",
       "      <td>ES</td>\n",
       "      <td>ESP</td>\n",
       "      <td>46723749.0</td>\n",
       "    </tr>\n",
       "    <tr>\n",
       "      <th>6107</th>\n",
       "      <td>2020-03-06</td>\n",
       "      <td>6</td>\n",
       "      <td>3</td>\n",
       "      <td>2020</td>\n",
       "      <td>61</td>\n",
       "      <td>2</td>\n",
       "      <td>Spain</td>\n",
       "      <td>ES</td>\n",
       "      <td>ESP</td>\n",
       "      <td>46723749.0</td>\n",
       "    </tr>\n",
       "    <tr>\n",
       "      <th>6108</th>\n",
       "      <td>2020-03-05</td>\n",
       "      <td>5</td>\n",
       "      <td>3</td>\n",
       "      <td>2020</td>\n",
       "      <td>49</td>\n",
       "      <td>1</td>\n",
       "      <td>Spain</td>\n",
       "      <td>ES</td>\n",
       "      <td>ESP</td>\n",
       "      <td>46723749.0</td>\n",
       "    </tr>\n",
       "    <tr>\n",
       "      <th>6109</th>\n",
       "      <td>2020-03-04</td>\n",
       "      <td>4</td>\n",
       "      <td>3</td>\n",
       "      <td>2020</td>\n",
       "      <td>37</td>\n",
       "      <td>0</td>\n",
       "      <td>Spain</td>\n",
       "      <td>ES</td>\n",
       "      <td>ESP</td>\n",
       "      <td>46723749.0</td>\n",
       "    </tr>\n",
       "    <tr>\n",
       "      <th>6110</th>\n",
       "      <td>2020-03-03</td>\n",
       "      <td>3</td>\n",
       "      <td>3</td>\n",
       "      <td>2020</td>\n",
       "      <td>31</td>\n",
       "      <td>0</td>\n",
       "      <td>Spain</td>\n",
       "      <td>ES</td>\n",
       "      <td>ESP</td>\n",
       "      <td>46723749.0</td>\n",
       "    </tr>\n",
       "    <tr>\n",
       "      <th>6111</th>\n",
       "      <td>2020-03-02</td>\n",
       "      <td>2</td>\n",
       "      <td>3</td>\n",
       "      <td>2020</td>\n",
       "      <td>17</td>\n",
       "      <td>0</td>\n",
       "      <td>Spain</td>\n",
       "      <td>ES</td>\n",
       "      <td>ESP</td>\n",
       "      <td>46723749.0</td>\n",
       "    </tr>\n",
       "    <tr>\n",
       "      <th>6112</th>\n",
       "      <td>2020-03-01</td>\n",
       "      <td>1</td>\n",
       "      <td>3</td>\n",
       "      <td>2020</td>\n",
       "      <td>32</td>\n",
       "      <td>0</td>\n",
       "      <td>Spain</td>\n",
       "      <td>ES</td>\n",
       "      <td>ESP</td>\n",
       "      <td>46723749.0</td>\n",
       "    </tr>\n",
       "    <tr>\n",
       "      <th>6113</th>\n",
       "      <td>2020-02-29</td>\n",
       "      <td>29</td>\n",
       "      <td>2</td>\n",
       "      <td>2020</td>\n",
       "      <td>9</td>\n",
       "      <td>0</td>\n",
       "      <td>Spain</td>\n",
       "      <td>ES</td>\n",
       "      <td>ESP</td>\n",
       "      <td>46723749.0</td>\n",
       "    </tr>\n",
       "    <tr>\n",
       "      <th>6114</th>\n",
       "      <td>2020-02-28</td>\n",
       "      <td>28</td>\n",
       "      <td>2</td>\n",
       "      <td>2020</td>\n",
       "      <td>13</td>\n",
       "      <td>0</td>\n",
       "      <td>Spain</td>\n",
       "      <td>ES</td>\n",
       "      <td>ESP</td>\n",
       "      <td>46723749.0</td>\n",
       "    </tr>\n",
       "    <tr>\n",
       "      <th>6115</th>\n",
       "      <td>2020-02-27</td>\n",
       "      <td>27</td>\n",
       "      <td>2</td>\n",
       "      <td>2020</td>\n",
       "      <td>5</td>\n",
       "      <td>0</td>\n",
       "      <td>Spain</td>\n",
       "      <td>ES</td>\n",
       "      <td>ESP</td>\n",
       "      <td>46723749.0</td>\n",
       "    </tr>\n",
       "    <tr>\n",
       "      <th>6116</th>\n",
       "      <td>2020-02-26</td>\n",
       "      <td>26</td>\n",
       "      <td>2</td>\n",
       "      <td>2020</td>\n",
       "      <td>4</td>\n",
       "      <td>0</td>\n",
       "      <td>Spain</td>\n",
       "      <td>ES</td>\n",
       "      <td>ESP</td>\n",
       "      <td>46723749.0</td>\n",
       "    </tr>\n",
       "  </tbody>\n",
       "</table>\n",
       "</div>"
      ],
      "text/plain": [
       "        dateRep  day  month  year  cases  deaths countriesAndTerritories  \\\n",
       "6086 2020-03-27   27      3  2020   8578     655                   Spain   \n",
       "6087 2020-03-26   26      3  2020   7937     738                   Spain   \n",
       "6088 2020-03-25   25      3  2020   6584     514                   Spain   \n",
       "6089 2020-03-24   24      3  2020   4517     462                   Spain   \n",
       "6090 2020-03-23   23      3  2020   3646     394                   Spain   \n",
       "6091 2020-03-22   22      3  2020   4946     324                   Spain   \n",
       "6092 2020-03-21   21      3  2020   2833     235                   Spain   \n",
       "6093 2020-03-20   20      3  2020   3431     169                   Spain   \n",
       "6094 2020-03-19   19      3  2020   2538     107                   Spain   \n",
       "6095 2020-03-18   18      3  2020   1987     182                   Spain   \n",
       "6096 2020-03-17   17      3  2020   1438      21                   Spain   \n",
       "6097 2020-03-16   16      3  2020   2000     152                   Spain   \n",
       "6098 2020-03-15   15      3  2020   1522      15                   Spain   \n",
       "6099 2020-03-14   14      3  2020   1227      37                   Spain   \n",
       "6100 2020-03-13   13      3  2020    864      37                   Spain   \n",
       "6101 2020-03-12   12      3  2020    501      12                   Spain   \n",
       "6102 2020-03-11   11      3  2020    435       7                   Spain   \n",
       "6103 2020-03-10   10      3  2020    615      23                   Spain   \n",
       "6104 2020-03-09    9      3  2020    159       0                   Spain   \n",
       "6105 2020-03-08    8      3  2020     56       0                   Spain   \n",
       "6106 2020-03-07    7      3  2020    113       2                   Spain   \n",
       "6107 2020-03-06    6      3  2020     61       2                   Spain   \n",
       "6108 2020-03-05    5      3  2020     49       1                   Spain   \n",
       "6109 2020-03-04    4      3  2020     37       0                   Spain   \n",
       "6110 2020-03-03    3      3  2020     31       0                   Spain   \n",
       "6111 2020-03-02    2      3  2020     17       0                   Spain   \n",
       "6112 2020-03-01    1      3  2020     32       0                   Spain   \n",
       "6113 2020-02-29   29      2  2020      9       0                   Spain   \n",
       "6114 2020-02-28   28      2  2020     13       0                   Spain   \n",
       "6115 2020-02-27   27      2  2020      5       0                   Spain   \n",
       "6116 2020-02-26   26      2  2020      4       0                   Spain   \n",
       "\n",
       "     geoId countryterritoryCode  popData2018  \n",
       "6086    ES                  ESP   46723749.0  \n",
       "6087    ES                  ESP   46723749.0  \n",
       "6088    ES                  ESP   46723749.0  \n",
       "6089    ES                  ESP   46723749.0  \n",
       "6090    ES                  ESP   46723749.0  \n",
       "6091    ES                  ESP   46723749.0  \n",
       "6092    ES                  ESP   46723749.0  \n",
       "6093    ES                  ESP   46723749.0  \n",
       "6094    ES                  ESP   46723749.0  \n",
       "6095    ES                  ESP   46723749.0  \n",
       "6096    ES                  ESP   46723749.0  \n",
       "6097    ES                  ESP   46723749.0  \n",
       "6098    ES                  ESP   46723749.0  \n",
       "6099    ES                  ESP   46723749.0  \n",
       "6100    ES                  ESP   46723749.0  \n",
       "6101    ES                  ESP   46723749.0  \n",
       "6102    ES                  ESP   46723749.0  \n",
       "6103    ES                  ESP   46723749.0  \n",
       "6104    ES                  ESP   46723749.0  \n",
       "6105    ES                  ESP   46723749.0  \n",
       "6106    ES                  ESP   46723749.0  \n",
       "6107    ES                  ESP   46723749.0  \n",
       "6108    ES                  ESP   46723749.0  \n",
       "6109    ES                  ESP   46723749.0  \n",
       "6110    ES                  ESP   46723749.0  \n",
       "6111    ES                  ESP   46723749.0  \n",
       "6112    ES                  ESP   46723749.0  \n",
       "6113    ES                  ESP   46723749.0  \n",
       "6114    ES                  ESP   46723749.0  \n",
       "6115    ES                  ESP   46723749.0  \n",
       "6116    ES                  ESP   46723749.0  "
      ]
     },
     "execution_count": 142,
     "metadata": {},
     "output_type": "execute_result"
    }
   ],
   "source": [
    "dfs = select_country(df, country='ES', thr=2)\n",
    "dfs"
   ]
  },
  {
   "cell_type": "code",
   "execution_count": 216,
   "metadata": {},
   "outputs": [
    {
     "data": {
      "text/plain": [
       "4089"
      ]
     },
     "execution_count": 216,
     "metadata": {},
     "output_type": "execute_result"
    }
   ],
   "source": [
    "dfs['deaths'].sum()"
   ]
  },
  {
   "cell_type": "code",
   "execution_count": null,
   "metadata": {},
   "outputs": [],
   "source": []
  },
  {
   "cell_type": "code",
   "execution_count": 203,
   "metadata": {},
   "outputs": [],
   "source": [
    "def pltf(df, figsize=(12,12), log=False):\n",
    "    def formatter(ax):\n",
    "        locator = mdates.AutoDateLocator(minticks=3, maxticks=7)\n",
    "        formatter = mdates.ConciseDateFormatter(locator)\n",
    "        ax.xaxis.set_major_locator(locator)\n",
    "        ax.xaxis.set_major_formatter(formatter)\n",
    "    \n",
    "    def cum_sum(df, data):\n",
    "        Y = np.flip(df[data].values)\n",
    "        CY = np.cumsum(Y)\n",
    "        FCY = np.flip(CY)\n",
    "        return FCY\n",
    " \n",
    "        \n",
    "    fig = plt.figure(figsize=figsize)\n",
    "    X = df['dateRep'].values\n",
    "    Y = df['cases'].values\n",
    "    ax      = fig.add_subplot(2, 2, 1)\n",
    "    plt.plot(X, Y, 'bo')\n",
    "    formatter(ax)\n",
    "    plt.xlabel('Date')\n",
    "    plt.ylabel('Number of cases')\n",
    "    if log:\n",
    "        plt.yscale('log')\n",
    "\n",
    "    plt.grid() \n",
    "    \n",
    "    ax      = fig.add_subplot(2, 2, 2)\n",
    "    plt.plot(X, cum_sum(df, 'cases'), 'bo')\n",
    "    formatter(ax)\n",
    "    plt.xlabel('Date')\n",
    "    plt.ylabel('Cumulative number of cases')\n",
    "    if log:\n",
    "        plt.yscale('log')\n",
    "\n",
    "    plt.grid() \n",
    "\n",
    "    Y = df['deaths']\n",
    "    ax      = fig.add_subplot(2, 2, 3)\n",
    "    plt.plot(X, Y, 'bo')\n",
    "    formatter(ax)\n",
    "    plt.xlabel('Date')\n",
    "    plt.ylabel('Number of deaths')\n",
    "    if log:\n",
    "        plt.yscale('log')\n",
    "\n",
    "    plt.grid() \n",
    "\n",
    "    ax      = fig.add_subplot(2, 2, 4)\n",
    "    plt.plot(X, cum_sum(df, 'deaths'), 'bo')\n",
    "    formatter(ax)\n",
    "    plt.xlabel('Date')\n",
    "    plt.ylabel('Cumulative number of deaths')\n",
    "    if log:\n",
    "        plt.yscale('log')\n",
    "\n",
    "    plt.grid() \n",
    "\n",
    "    plt.tight_layout()\n",
    "    plt.show()\n"
   ]
  },
  {
   "cell_type": "code",
   "execution_count": 204,
   "metadata": {},
   "outputs": [
    {
     "data": {
      "image/png": "[encoded data removed]",
      "text/plain": [
       "<Figure size 864x864 with 4 Axes>"
      ]
     },
     "metadata": {
      "needs_background": "light"
     },
     "output_type": "display_data"
    }
   ],
   "source": [
    "pltf(dfs, figsize=(12,12), log=True)"
   ]
  },
  {
   "cell_type": "code",
   "execution_count": 225,
   "metadata": {},
   "outputs": [
    {
     "name": "stdout",
     "output_type": "stream",
     "text": [
      "41451.69183684686\n"
     ]
    },
    {
     "data": {
      "text/plain": [
       "41451.69183684686"
      ]
     },
     "execution_count": 225,
     "metadata": {},
     "output_type": "execute_result"
    }
   ],
   "source": [
    "ut = scale_cfr(dfs, hdt)\n",
    "ut"
   ]
  },
  {
   "cell_type": "code",
   "execution_count": 32,
   "metadata": {},
   "outputs": [],
   "source": [
    "def pltfit(C19, imin=5, imax=26, re=0.05, data='Cases', figsize=(12,12), linewidth=3, ms=7):\n",
    "    def reverse(s):\n",
    "        return s.sort_index(ascending=False)\n",
    " \n",
    "    def geti(C19):\n",
    "        return np.log(reverse(C19[data]).values[imin:imax])\n",
    "    \n",
    "    fig = plt.figure(figsize=figsize)\n",
    "    \n",
    "    I = geti(C19)  \n",
    "    X = np.arange(len(I))\n",
    "    \n",
    "    pf = np.polyfit(X, I, 1)\n",
    "    print(f'coefficients of poly fit: {pf}')\n",
    "    ft = np.poly1d(pf)\n",
    "    sigma = re  * I\n",
    "    \n",
    "    plt.errorbar(X, I, fmt=\"kp\", yerr= re  * I, ms=ms, ls='none')\n",
    "    plt.plot(X, ft(X), linewidth=linewidth)\n",
    "    plt.xlabel('Date in days')\n",
    "    plt.ylabel('Number of cases')\n",
    "    plt.grid()\n",
    "    return pf, get_chi2(I, ft(X), len(I), sigma)\n",
    "\n",
    "    "
   ]
  },
  {
   "cell_type": "code",
   "execution_count": 33,
   "metadata": {},
   "outputs": [
    {
     "name": "stdout",
     "output_type": "stream",
     "text": [
      "coefficients of poly fit: [0.30649083 4.13645703]\n"
     ]
    },
    {
     "data": {
      "image/png": "[encoded data removed]",
      "text/plain": [
       "<Figure size 864x864 with 1 Axes>"
      ]
     },
     "metadata": {
      "needs_background": "light"
     },
     "output_type": "display_data"
    }
   ],
   "source": [
    "pf, chi2 = pltfit(c19s, imin=5, imax=26, re=0.02, data='Cases', figsize=(12,12), linewidth=3, ms=7)"
   ]
  },
  {
   "cell_type": "code",
   "execution_count": 36,
   "metadata": {},
   "outputs": [
    {
     "name": "stdout",
     "output_type": "stream",
     "text": [
      "duplication time = 0.24175278342482717\n"
     ]
    }
   ],
   "source": [
    "print(f'duplication time = {1/pf[1]}')"
   ]
  },
  {
   "cell_type": "code",
   "execution_count": null,
   "metadata": {},
   "outputs": [],
   "source": []
  },
  {
   "cell_type": "code",
   "execution_count": null,
   "metadata": {},
   "outputs": [],
   "source": []
  },
  {
   "cell_type": "code",
   "execution_count": null,
   "metadata": {},
   "outputs": [],
   "source": [
    "za    = np.polyfit(fbib.W, fbib.I, 1)\n",
    "print(f'coefficients of poly fit: {za}')"
   ]
  },
  {
   "cell_type": "code",
   "execution_count": 122,
   "metadata": {},
   "outputs": [],
   "source": [
    "def expo_seed(x, y, eps=1e-12):\n",
    "    \"\"\"\n",
    "    Estimate the seed for a exponential fit to the input data.\n",
    "    \"\"\"\n",
    "    x, y  = zip(*sorted(zip(x, y)))\n",
    "    const = y[0]\n",
    "    slope = (x[-1] - x[0]) / np.log(y[-1] / (y[0] + eps))\n",
    "    seed  = const, slope\n",
    "    return seed"
   ]
  },
  {
   "cell_type": "code",
   "execution_count": 142,
   "metadata": {},
   "outputs": [],
   "source": [
    "def fit_intensity(C19, data='C', ferr = 0.05, imax=3e+4, figsize=(10,10)):\n",
    "    def reverse(s):\n",
    "        return s.sort_index(ascending=False)\n",
    "\n",
    "    y0 = reverse(C19.C).values\n",
    "    print(y0)\n",
    "    I = y0[25:50]\n",
    "    print(I)\n",
    "    X = np.arange(len(I))\n",
    "    yerr= ferr  * I\n",
    "    seed = expo_seed(X, I)\n",
    "    f    = fitf.fit(fitf.expo, X, I, seed, sigma= yerr)\n",
    "    fig = plt.figure(figsize=figsize)\n",
    "    plt.errorbar(X,I, fmt=\"kp\", yerr= yerr, ms=7, ls='none')\n",
    "    plt.plot(X, f.fn(X), lw=3)\n",
    "    \n",
    "    #plt.ylim(0,imax)\n",
    "    plt.xlabel('shot number')\n",
    "    plt.ylabel('I (a.u.)')\n",
    "    plt.show()\n",
    "    print(f'Fit function -->{f}')\n",
    "    return f.values, f.errors"
   ]
  },
  {
   "cell_type": "code",
   "execution_count": 143,
   "metadata": {},
   "outputs": [
    {
     "name": "stdout",
     "output_type": "stream",
     "text": [
      "[    1     1     1     1     1     1     1     1     1     2     2     2\n",
      "     2     2     2     2     2     2     2     2     2     2     2     2\n",
      "     3     7    12    25    34    66    83   114   151   200   261   374\n",
      "   430   589  1204  1639  2140  3004  4231  5753  7753  9191 11178 13716\n",
      " 17147 19980]\n",
      "[    7    12    25    34    66    83   114   151   200   261   374   430\n",
      "   589  1204  1639  2140  3004  4231  5753  7753  9191 11178 13716 17147\n",
      " 19980]\n"
     ]
    },
    {
     "data": {
      "image/png": "[encoded data removed]",
      "text/plain": [
       "<Figure size 720x720 with 1 Axes>"
      ]
     },
     "metadata": {
      "needs_background": "light"
     },
     "output_type": "display_data"
    },
    {
     "name": "stdout",
     "output_type": "stream",
     "text": [
      "Fit function -->FitFunction(fn=<function fit.<locals>.<lambda> at 0x181c6f7b90>, values=array([11.55615939,  3.04580543]), errors=array([0.20626911, 0.01110921]), chi2=33.10034706076422, pvalue=5.202716091237219e-146, cov=array([[0.04254694, 0.00186194],\n",
      "       [0.00186194, 0.00012341]]))\n"
     ]
    },
    {
     "data": {
      "text/plain": [
       "(array([11.55615939,  3.04580543]), array([0.20626911, 0.01110921]))"
      ]
     },
     "execution_count": 143,
     "metadata": {},
     "output_type": "execute_result"
    }
   ],
   "source": [
    "fit_intensity(c19s)"
   ]
  },
  {
   "cell_type": "code",
   "execution_count": null,
   "metadata": {},
   "outputs": [],
   "source": []
  },
  {
   "cell_type": "code",
   "execution_count": null,
   "metadata": {},
   "outputs": [],
   "source": []
  },
  {
   "cell_type": "code",
   "execution_count": null,
   "metadata": {},
   "outputs": [],
   "source": []
  }
 ],
 "metadata": {
  "kernelspec": {
   "display_name": "Python 3",
   "language": "python",
   "name": "python3"
  },
  "language_info": {
   "codemirror_mode": {
    "name": "ipython",
    "version": 3
   },
   "file_extension": ".py",
   "mimetype": "text/x-python",
   "name": "python",
   "nbconvert_exporter": "python",
   "pygments_lexer": "ipython3",
   "version": "3.7.6"
  }
 },
 "nbformat": 4,
 "nbformat_minor": 4
}
